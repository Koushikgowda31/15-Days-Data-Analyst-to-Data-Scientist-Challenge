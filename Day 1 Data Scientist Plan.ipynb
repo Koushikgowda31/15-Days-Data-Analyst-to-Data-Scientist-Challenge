{
 "cells": [
  {
   "cell_type": "code",
   "execution_count": 1,
   "id": "2884f7c4-bc50-4ea6-876e-ed73d4c7a20a",
   "metadata": {},
   "outputs": [
    {
     "data": {
      "text/plain": [
       "8"
      ]
     },
     "execution_count": 1,
     "metadata": {},
     "output_type": "execute_result"
    }
   ],
   "source": [
    "# Python Basics \n",
    "# 1. Numeric data types:\n",
    "    # a. Integer  (int) Whole number, both positive and negative without a decimal points\n",
    "        # Ex: 5, -3, 1000\n",
    "#Addition\n",
    "5+3"
   ]
  },
  {
   "cell_type": "code",
   "execution_count": 2,
   "id": "8bdb78c4-af42-4e5a-9a66-14d876e636b7",
   "metadata": {},
   "outputs": [
    {
     "data": {
      "text/plain": [
       "2"
      ]
     },
     "execution_count": 2,
     "metadata": {},
     "output_type": "execute_result"
    }
   ],
   "source": [
    "#Subtraction\n",
    "5-3"
   ]
  },
  {
   "cell_type": "code",
   "execution_count": 3,
   "id": "5fc9646f-b4cb-419c-b7ef-0784a4c197fe",
   "metadata": {},
   "outputs": [
    {
     "data": {
      "text/plain": [
       "15"
      ]
     },
     "execution_count": 3,
     "metadata": {},
     "output_type": "execute_result"
    }
   ],
   "source": [
    "#Multiplication\n",
    "5*3"
   ]
  },
  {
   "cell_type": "code",
   "execution_count": 4,
   "id": "7a26159b-e790-4745-a762-e81fe9b6c67c",
   "metadata": {},
   "outputs": [
    {
     "data": {
      "text/plain": [
       "1.6666666666666667"
      ]
     },
     "execution_count": 4,
     "metadata": {},
     "output_type": "execute_result"
    }
   ],
   "source": [
    "#Devision\n",
    "5/3"
   ]
  },
  {
   "cell_type": "code",
   "execution_count": 5,
   "id": "935c821a-172a-4662-9175-ab61c963f546",
   "metadata": {},
   "outputs": [
    {
     "data": {
      "text/plain": [
       "1"
      ]
     },
     "execution_count": 5,
     "metadata": {},
     "output_type": "execute_result"
    }
   ],
   "source": [
    "5//3"
   ]
  },
  {
   "cell_type": "code",
   "execution_count": 6,
   "id": "f3897dbe-2d40-4907-94df-4d341d9c0c8d",
   "metadata": {},
   "outputs": [
    {
     "name": "stdout",
     "output_type": "stream",
     "text": [
      "Odd\n"
     ]
    }
   ],
   "source": [
    "#Modulus\n",
    "# 1. Checking for even or odd numbers\n",
    "num =7\n",
    "if num % 2 == 0:\n",
    "    print(\"Even\")\n",
    "else:\n",
    "    print(\"Odd\")"
   ]
  },
  {
   "cell_type": "code",
   "execution_count": 7,
   "id": "62a1514e-a25f-4455-a15a-de1a544a5cdd",
   "metadata": {},
   "outputs": [
    {
     "name": "stdout",
     "output_type": "stream",
     "text": [
      "c\n"
     ]
    }
   ],
   "source": [
    "# 2. Circular counting or wrapping around\n",
    "my_list = ['a','b','c','d','e']\n",
    "index = 7\n",
    "print(my_list[index % len(my_list)])"
   ]
  },
  {
   "cell_type": "code",
   "execution_count": 8,
   "id": "b177de88-5873-4ffa-88e0-7130c3d53c2b",
   "metadata": {},
   "outputs": [
    {
     "name": "stdout",
     "output_type": "stream",
     "text": [
      "Divisible by 3\n"
     ]
    }
   ],
   "source": [
    "# 3. Determining divisibility\n",
    "num = 15 \n",
    "if num %3==0:\n",
    "    print(\"Divisible by 3\")\n",
    "else:\n",
    "    print(\"Not divisible by 3\")"
   ]
  },
  {
   "cell_type": "code",
   "execution_count": 9,
   "id": "499d816f-117f-46fb-a611-8c847d706b7f",
   "metadata": {},
   "outputs": [
    {
     "data": {
      "text/plain": [
       "17.25"
      ]
     },
     "execution_count": 9,
     "metadata": {},
     "output_type": "execute_result"
    }
   ],
   "source": [
    "# b. Float (float) Represents real numbers which include decimal points or floating-point numbers\n",
    "# Ex: 3.54, -0.5, 42.0\n",
    "3.45*5"
   ]
  },
  {
   "cell_type": "code",
   "execution_count": 10,
   "id": "a8213f36-e75c-487b-823b-cd2a443ad805",
   "metadata": {},
   "outputs": [
    {
     "data": {
      "text/plain": [
       "(4+6j)"
      ]
     },
     "execution_count": 10,
     "metadata": {},
     "output_type": "execute_result"
    }
   ],
   "source": [
    "# c. Complex (complex) Used to represent complex numbers in the form a+bj, where 'a' is the real part, & 'b' is the imaginary part.\n",
    "# Ex: 3+4j, 2-5j\n",
    "(3+4j) + (1+2j)"
   ]
  },
  {
   "cell_type": "code",
   "execution_count": 11,
   "id": "34de86f4-d4f0-48a3-a7c9-be4447ad0a35",
   "metadata": {},
   "outputs": [
    {
     "data": {
      "text/plain": [
       "'Hello World'"
      ]
     },
     "execution_count": 11,
     "metadata": {},
     "output_type": "execute_result"
    }
   ],
   "source": [
    "# 2. Sequence Data Types\n",
    "# a. String (str) Represents text or a sequence of characters enclosed in quotes (either single ' or double \" )\n",
    "# Ex: \"Hello World\", 'Python', \"Data Science'\n",
    "'Hello'+' '+'World'"
   ]
  },
  {
   "cell_type": "code",
   "execution_count": 12,
   "id": "3451fde4-8641-4f90-83b1-543c442f1300",
   "metadata": {},
   "outputs": [
    {
     "data": {
      "text/plain": [
       "'ell'"
      ]
     },
     "execution_count": 12,
     "metadata": {},
     "output_type": "execute_result"
    }
   ],
   "source": [
    "# a.a String slicing\n",
    "'Hello'[1:4]"
   ]
  },
  {
   "cell_type": "code",
   "execution_count": 29,
   "id": "61cec130-7e6a-45e6-adf9-9abcc80e7497",
   "metadata": {},
   "outputs": [],
   "source": [
    "# b. List (list) Ordered, Mutable( Can be change ) collection of items, which can be any data type\n",
    "# Ex: [1,2,3], ['apple', 'Banana', 'Cherry'], [1, \"apple\", 3.14]\n",
    "my_list= [1,2,3]\n",
    "my_list.append(4)"
   ]
  },
  {
   "cell_type": "code",
   "execution_count": 37,
   "id": "593803d8-1682-44c7-b38a-31d9a681f25b",
   "metadata": {},
   "outputs": [
    {
     "data": {
      "text/plain": [
       "[1, 2, 3, 4]"
      ]
     },
     "execution_count": 37,
     "metadata": {},
     "output_type": "execute_result"
    }
   ],
   "source": [
    "my_list"
   ]
  },
  {
   "cell_type": "code",
   "execution_count": 44,
   "id": "30554861-85c3-4ba7-a710-dd7d37365c5b",
   "metadata": {},
   "outputs": [
    {
     "name": "stdout",
     "output_type": "stream",
     "text": [
      "2\n"
     ]
    }
   ],
   "source": [
    "# c. Tuple (tuple) Similar to list but Immutable (cannot be changed once created). Used for storing a fixed collection of items\n",
    "# Ex: (1,2,3),('a','b','c')\n",
    "my_tuple = (1,2,3)\n",
    "print (my_tuple[1])"
   ]
  },
  {
   "cell_type": "code",
   "execution_count": 50,
   "id": "4555b006-9ae7-4c1c-8302-2c1d4d8da68b",
   "metadata": {},
   "outputs": [
    {
     "name": "stdout",
     "output_type": "stream",
     "text": [
      "0\n",
      "1\n",
      "2\n"
     ]
    }
   ],
   "source": [
    "# d. Range (range) Represents a sequence of numbers, commonly used in for-loops.\n",
    "for i in range(3):\n",
    "    print(i)"
   ]
  },
  {
   "cell_type": "code",
   "execution_count": 66,
   "id": "76c4c50a-527c-4d10-9487-5ab6f91fbe91",
   "metadata": {},
   "outputs": [
    {
     "name": "stdout",
     "output_type": "stream",
     "text": [
      "Koushik\n"
     ]
    }
   ],
   "source": [
    "# 3. mapping data types\n",
    "# a. Dictionary (dict)\n",
    "# An unordered collection of key-value pairs. each key is unique, and the values can be of any data type\n",
    "# Ex: {'name': 'Alice', 'age':30},{'fruit':'apple','quatity':10}\n",
    "my_dict = {'name':'Koushik','age':24}\n",
    "print(my_dict['name'])"
   ]
  },
  {
   "cell_type": "code",
   "execution_count": 70,
   "id": "47374ea5-2715-42d1-ae09-867d41ddf946",
   "metadata": {},
   "outputs": [
    {
     "name": "stdout",
     "output_type": "stream",
     "text": [
      "{2, 3}\n"
     ]
    }
   ],
   "source": [
    "# 4. Set (set) A collection of unique items. sets are mutable but cannot contain duplicate elements\n",
    "set1 = {1,2,3}\n",
    "set2 = {2,3,4}\n",
    "print(set1 & set2)"
   ]
  },
  {
   "cell_type": "code",
   "execution_count": 74,
   "id": "0392d243-39c0-4f85-ac2a-c4be89e0b4f2",
   "metadata": {},
   "outputs": [],
   "source": [
    "# 5. Boolean Data Type\n",
    "# a. Boolean (bool) Represent either 'True' Or 'False', ommonly used in conditional statements and logical operations\n",
    "# Ex: True, False\n",
    "# Boolean operators AND(and), OR (or), NOT (not)\n",
    "# Comparision Operators\n",
    "# ==: Equals to\n",
    "# !=: Not Equals to\n",
    "# >: Greater than\n",
    "# <: Lesser than\n",
    "# >=: Greater than or equal to \n",
    "# <=: Lesser trhan equal to\n"
   ]
  },
  {
   "cell_type": "code",
   "execution_count": 76,
   "id": "13e78e3f-0581-4350-9696-cc3e12175c9b",
   "metadata": {},
   "outputs": [
    {
     "name": "stdout",
     "output_type": "stream",
     "text": [
      "False\n"
     ]
    }
   ],
   "source": [
    "a=5\n",
    "b=3\n",
    "print(a==b)"
   ]
  },
  {
   "cell_type": "code",
   "execution_count": 78,
   "id": "11fe917b-cd7a-4dc2-880a-ee780eb2fbaa",
   "metadata": {},
   "outputs": [
    {
     "name": "stdout",
     "output_type": "stream",
     "text": [
      "True\n"
     ]
    }
   ],
   "source": [
    "print(a!=b)"
   ]
  },
  {
   "cell_type": "code",
   "execution_count": 88,
   "id": "d4a84c86-27dd-44f8-994f-fd0fe9760eaa",
   "metadata": {},
   "outputs": [
    {
     "name": "stdout",
     "output_type": "stream",
     "text": [
      "True\n"
     ]
    }
   ],
   "source": [
    "print(a>=b)"
   ]
  },
  {
   "cell_type": "code",
   "execution_count": 101,
   "id": "5443f81f-bdba-406e-9f81-85c68330adec",
   "metadata": {},
   "outputs": [
    {
     "name": "stdout",
     "output_type": "stream",
     "text": [
      "False\n"
     ]
    }
   ],
   "source": [
    "print(a<=b)"
   ]
  },
  {
   "cell_type": "code",
   "execution_count": 105,
   "id": "41c2c9a0-2a3c-4f87-aef8-9dc9cc6b4fd8",
   "metadata": {},
   "outputs": [
    {
     "name": "stdout",
     "output_type": "stream",
     "text": [
      "True\n"
     ]
    }
   ],
   "source": [
    "# a.1 Logistic Operators\n",
    "#AND (and)\n",
    "x=5\n",
    "y=10\n",
    "z=3\n",
    "result = (x<y) and (y>z)\n",
    "print(result)"
   ]
  },
  {
   "cell_type": "code",
   "execution_count": 107,
   "id": "857b0e7f-c7db-4d4e-b7f6-4976e36a64a3",
   "metadata": {},
   "outputs": [
    {
     "name": "stdout",
     "output_type": "stream",
     "text": [
      "True\n"
     ]
    }
   ],
   "source": [
    "# a.2 OR (or) The 'or' operator returns true if a least one of the condition is true \n",
    "x=5\n",
    "y=10\n",
    "result = (x>y) or (x<y)\n",
    "print(result)"
   ]
  },
  {
   "cell_type": "code",
   "execution_count": 109,
   "id": "650d5669-7203-4733-ac13-80cd1e03ae9c",
   "metadata": {},
   "outputs": [
    {
     "name": "stdout",
     "output_type": "stream",
     "text": [
      "False\n"
     ]
    }
   ],
   "source": [
    "# a.3 NOT (not) The 'not' operator reverses the Boolean value\n",
    "# if the value is true, 'not' makes it False.\n",
    "# if the value is False, 'not' makes it true.\n",
    "x = True\n",
    "result = not x\n",
    "print(result)\n"
   ]
  },
  {
   "cell_type": "code",
   "execution_count": 111,
   "id": "58b9aa64-72dc-4ea5-b76f-7afe164e9c6a",
   "metadata": {},
   "outputs": [
    {
     "name": "stdout",
     "output_type": "stream",
     "text": [
      "False\n",
      "False\n",
      "False\n",
      "False\n",
      "True\n",
      "True\n",
      "True\n"
     ]
    }
   ],
   "source": [
    "# a.4 Boolean Contexts\n",
    "# falsy values: None, False, 0 or 0.00\n",
    "# Empty sequences or collections: '' (empty string), [] (empty list), () (empty tuple), {} (empty dictionary)\n",
    "\n",
    "# Truthly values : 1, -10\n",
    "# Non-empty string (e.g., 'hello')\n",
    "# Non-empty list, tuple, or dictionary\n",
    "\n",
    "# Example of falsy values:\n",
    "print(bool(0))       # False\n",
    "print(bool(''))      # False\n",
    "print(bool([]))      # False\n",
    "print(bool(None))    # False\n",
    "\n",
    "# Example of truthy values:\n",
    "print(bool(1))       # True\n",
    "print(bool('hello')) # True\n",
    "print(bool([1, 2]))  # True\n"
   ]
  },
  {
   "cell_type": "code",
   "execution_count": 113,
   "id": "e5c9f2a3-00fd-42b0-a89e-58741de1ab48",
   "metadata": {},
   "outputs": [
    {
     "name": "stdout",
     "output_type": "stream",
     "text": [
      "b'Hello'\n"
     ]
    }
   ],
   "source": [
    "# 6. Binary Data Types\n",
    "# 6.1 Bytes (bytes) You can create a bytes object by using the b prefix before a string. The string is interpreted as a sequence of bytes.\n",
    "# The b indicates that this is a byte string, and it stores the data as bytes rather than as a string of characters.\n",
    "a=b'Hello'\n",
    "print(a)"
   ]
  },
  {
   "cell_type": "code",
   "execution_count": 115,
   "id": "b2c926ca-16d1-4a7c-8537-271027a4b1e6",
   "metadata": {},
   "outputs": [
    {
     "ename": "TypeError",
     "evalue": "'bytes' object does not support item assignment",
     "output_type": "error",
     "traceback": [
      "\u001b[1;31m---------------------------------------------------------------------------\u001b[0m",
      "\u001b[1;31mTypeError\u001b[0m                                 Traceback (most recent call last)",
      "Cell \u001b[1;32mIn[115], line 3\u001b[0m\n\u001b[0;32m      1\u001b[0m \u001b[38;5;66;03m# Bytes are immutable:\u001b[39;00m\n\u001b[0;32m      2\u001b[0m \u001b[38;5;66;03m# Once a bytes object is created, it cannot be modified. Any attempt to modify the contents will raise an error.\u001b[39;00m\n\u001b[1;32m----> 3\u001b[0m a[\u001b[38;5;241m0\u001b[39m] \u001b[38;5;241m=\u001b[39m \u001b[38;5;241m70\u001b[39m\n",
      "\u001b[1;31mTypeError\u001b[0m: 'bytes' object does not support item assignment"
     ]
    }
   ],
   "source": [
    "# 6.1.1 Bytes are immutable:\n",
    "# Once a bytes object is created, it cannot be modified. Any attempt to modify the contents will raise an error.\n",
    "a[0] = 72"
   ]
  },
  {
   "cell_type": "code",
   "execution_count": 121,
   "id": "0e0b1aff-d1f5-4d1a-b84c-f752bbe31cec",
   "metadata": {},
   "outputs": [
    {
     "name": "stdout",
     "output_type": "stream",
     "text": [
      "bytearray(b'hello')\n",
      "bytearray(b'ABC')\n"
     ]
    }
   ],
   "source": [
    "# 6.2 Bytearray (bytearray) A bytearray is a mutable sequence of bytes, meaning you can modify its contents after it is created.\n",
    "b_arr = bytearray('hello', 'utf-8')\n",
    "print(b_arr)\n",
    "b_arr2 = bytearray([65, 66, 67])\n",
    "print(b_arr2)"
   ]
  },
  {
   "cell_type": "code",
   "execution_count": 123,
   "id": "bc9e3300-d1e2-4321-a480-12a15c36b8ab",
   "metadata": {},
   "outputs": [
    {
     "name": "stdout",
     "output_type": "stream",
     "text": [
      "bytearray(b'Hello')\n"
     ]
    }
   ],
   "source": [
    "# 6.2.1 Modifying a bytearray object:\n",
    "# We can change the contents of a bytearray object by using indexing or slicing.\n",
    "b_arr[0] = 72  # Changes 'h' to 'H' American statndard code for information interchange (ASCII)\n",
    "print(b_arr)"
   ]
  },
  {
   "cell_type": "code",
   "execution_count": 127,
   "id": "d0137dda-0477-4f29-be53-b47a336d6a3a",
   "metadata": {},
   "outputs": [
    {
     "name": "stdout",
     "output_type": "stream",
     "text": [
      "<memory at 0x0000020D3CE3F040>\n"
     ]
    }
   ],
   "source": [
    "# 6.3 Memoryview (memoryview) A memoryview object allows you to access and manipulate the memory of other binary objects (like bytes or bytearray) without copying the underlying data. It gives you a view of the original object, making it useful for large data sets or performance-sensitive applications where copying data would be inefficient.\n",
    "# Createing a memoryview\n",
    "b = bytearray('hello', 'utf-8') # Create a bytearray object\n",
    "mview = memoryview(b)\n",
    "print(mview) #Create a memoryview from the bytearray"
   ]
  },
  {
   "cell_type": "code",
   "execution_count": 160,
   "id": "cc3c267b-4633-4774-b2cb-40d0921d63de",
   "metadata": {},
   "outputs": [
    {
     "name": "stdout",
     "output_type": "stream",
     "text": [
      "104\n",
      "<memory at 0x0000020D3CE3F580>\n"
     ]
    }
   ],
   "source": [
    "# 6.3.1 Accessing Data through a Memoryview:\n",
    "# We can access data in a memoryview just like you would with a list or other sequence type. You can use slicing, indexing, and iterating.\n",
    "print(mview[0]) # Access data via memoryview\n",
    "print(mview[1:4]) # Slice a memoryview"
   ]
  },
  {
   "cell_type": "code",
   "execution_count": 164,
   "id": "b427fa1d-e322-422a-a4a8-ae429f61e8ce",
   "metadata": {},
   "outputs": [
    {
     "name": "stdout",
     "output_type": "stream",
     "text": [
      "Koushik 5.11 24\n"
     ]
    }
   ],
   "source": [
    "# 2. Variables & Assignment In Python, a variable is a name that stores a value. You can assign a value to a variable using the = operator.\n",
    "age = 24         # age is assigned the value 24\n",
    "height = 5.11    # height is assigned the value 5.11\n",
    "name =\"Koushik\"  # name is assigned the value \"Koushik\"\n",
    "print(name,height,age)\n"
   ]
  },
  {
   "cell_type": "code",
   "execution_count": 166,
   "id": "1caea697-db69-4519-a802-54fb9afc608b",
   "metadata": {},
   "outputs": [
    {
     "name": "stdout",
     "output_type": "stream",
     "text": [
      "100\n"
     ]
    }
   ],
   "source": [
    "# 2.1 Type Conversion (Sometimes, you may need to convert one type of value to another. For example, you may want to convert a string to an integer or a float.)\n",
    "# 2.1.1 From String to Integer\n",
    "str_num = \"100\"\n",
    "int_num = int(str_num)\n",
    "print(int_num)"
   ]
  },
  {
   "cell_type": "code",
   "execution_count": 170,
   "id": "f4822ce7-6e68-4c2a-8836-3d0c8532bebe",
   "metadata": {},
   "outputs": [
    {
     "name": "stdout",
     "output_type": "stream",
     "text": [
      "46.56\n"
     ]
    }
   ],
   "source": [
    "# 2.1.2 From String to Float\n",
    "str_num = \"46.56\"\n",
    "float_num = float(str_num)\n",
    "print(float_num)"
   ]
  },
  {
   "cell_type": "code",
   "execution_count": 174,
   "id": "464de1d1-6c0c-4c36-a00d-4773d48210b3",
   "metadata": {},
   "outputs": [
    {
     "name": "stdout",
     "output_type": "stream",
     "text": [
      "123\n"
     ]
    }
   ],
   "source": [
    "# 2.1.3 From Integer to String\n",
    "num = 123\n",
    "str_num = str(num)\n",
    "print(str_num)"
   ]
  },
  {
   "cell_type": "code",
   "execution_count": 178,
   "id": "37dd3c6a-9639-4316-9b5d-8dd14327aff0",
   "metadata": {},
   "outputs": [
    {
     "name": "stdout",
     "output_type": "stream",
     "text": [
      "13\n",
      "7\n",
      "30\n",
      "3.3333333333333335\n",
      "3\n",
      "1\n",
      "1000\n"
     ]
    }
   ],
   "source": [
    "# 3. Basic Operations\n",
    "# 3.1 Arithmetic Operations:\n",
    "# These include addition, subtraction, multiplication, division, etc.\n",
    "\n",
    "a = 10\n",
    "b = 3\n",
    "\n",
    "# Arithmetic operations\n",
    "sum_result = a + b        # Addition\n",
    "diff_result = a - b       # Subtraction\n",
    "prod_result = a * b       # Multiplication\n",
    "div_result = a / b        # Division (float)\n",
    "floor_div_result = a // b # Floor division (integer)\n",
    "mod_result = a % b        # Modulo (remainder)\n",
    "exp_result = a ** b       # Exponentiation (a raised to the power b)\n",
    "\n",
    "print(sum_result)    # Output: 13\n",
    "print(diff_result)   # Output: 7\n",
    "print(prod_result)   # Output: 30\n",
    "print(div_result)    # Output: 3.3333...\n",
    "print(floor_div_result)  # Output: 3\n",
    "print(mod_result)    # Output: 1\n",
    "print(exp_result)    # Output: 1000\n"
   ]
  },
  {
   "cell_type": "code",
   "execution_count": 180,
   "id": "e806c150-7771-42ed-a607-54611247b7f8",
   "metadata": {},
   "outputs": [
    {
     "name": "stdout",
     "output_type": "stream",
     "text": [
      "Koushik Gowda\n"
     ]
    }
   ],
   "source": [
    "# 3.1.1 String Manipulation\n",
    "# Concatenation: Concatenating strings means joining two or more strings together.\n",
    "first_name = \"Koushik\"\n",
    "last_name = \"Gowda\"\n",
    "full_name = first_name+\" \"+last_name\n",
    "print(full_name)"
   ]
  },
  {
   "cell_type": "code",
   "execution_count": 182,
   "id": "aef3c23b-424a-4ed0-abca-bed8903e9d48",
   "metadata": {},
   "outputs": [
    {
     "name": "stdout",
     "output_type": "stream",
     "text": [
      "pyt\n"
     ]
    }
   ],
   "source": [
    "# Slicing: Slicing allows you to extract a part of a string.\n",
    "name = \"python\"\n",
    "slice_result = name[0:3]\n",
    "print(slice_result)"
   ]
  },
  {
   "cell_type": "code",
   "execution_count": 186,
   "id": "65f061db-f88a-4a88-9336-95a6e12b2e09",
   "metadata": {},
   "outputs": [
    {
     "name": "stdout",
     "output_type": "stream",
     "text": [
      "My age is 24\n",
      "My name is Alice and I am 30 years old.\n"
     ]
    }
   ],
   "source": [
    "# String Formatting: You can format strings in different ways, such as using f-strings or .format().\n",
    "age = 24\n",
    "message = f\"My age is {age}\"\n",
    "print(message)\n",
    "\n",
    "name = \"Alice\"\n",
    "age = 30\n",
    "\n",
    "# Using f-string to format a string\n",
    "formatted_string = f\"My name is {name} and I am {age} years old.\"\n",
    "print(formatted_string)"
   ]
  },
  {
   "cell_type": "code",
   "execution_count": 188,
   "id": "cc950bb5-4886-469e-b5ba-063dcfb168e1",
   "metadata": {},
   "outputs": [
    {
     "name": "stdout",
     "output_type": "stream",
     "text": [
      "The area is 50 square units.\n"
     ]
    }
   ],
   "source": [
    "width = 5\n",
    "height = 10\n",
    "area = f\"The area is {width * height} square units.\"\n",
    "print(area)"
   ]
  },
  {
   "cell_type": "code",
   "execution_count": 190,
   "id": "cfd07d81-2d21-49df-ab5e-fb39486ab7a3",
   "metadata": {},
   "outputs": [],
   "source": [
    "# 4 Practice: Simple python script\n",
    "# Let’s create a simple Python script that asks the user for input and performs operations like calculating BMI and converting temperatures between Celsius and Fahrenheit.\n",
    "\n",
    "# Function to calculate BMI (Body mass index)"
   ]
  },
  {
   "cell_type": "code",
   "execution_count": 1,
   "id": "d299e01d-6d17-4cb0-b394-23619ec0ce89",
   "metadata": {},
   "outputs": [
    {
     "name": "stdout",
     "output_type": "stream",
     "text": [
      "Choose an option:\n",
      "1. Calculate BMI\n",
      "2. Convert temperature\n"
     ]
    },
    {
     "name": "stdin",
     "output_type": "stream",
     "text": [
      "Enter 1 or 2:  2\n"
     ]
    },
    {
     "name": "stdout",
     "output_type": "stream",
     "text": [
      "1. Celsius to Fahrenheit\n",
      "2. Fahrenheit to Celsius\n"
     ]
    },
    {
     "name": "stdin",
     "output_type": "stream",
     "text": [
      "Choose conversion (1 or 2):  2\n",
      "Enter temperature in Fahrenheit:  84\n"
     ]
    },
    {
     "name": "stdout",
     "output_type": "stream",
     "text": [
      "84.0°F is equal to 28.89°C\n"
     ]
    }
   ],
   "source": [
    "# Function to calculate BMI\n",
    "def calculate_bmi(weight, height):\n",
    "    bmi = weight / (height ** 2)\n",
    "    return bmi\n",
    "\n",
    "# Function to convert Celsius to Fahrenheit\n",
    "def celsius_to_fahrenheit(celsius):\n",
    "    fahrenheit = (celsius * 9/5) + 32\n",
    "    return fahrenheit\n",
    "\n",
    "# Function to convert Fahrenheit to Celsius\n",
    "def fahrenheit_to_celsius(fahrenheit):\n",
    "    celsius = (fahrenheit - 32) * 5/9\n",
    "    return celsius\n",
    "\n",
    "# Main function to get user input and perform operations\n",
    "def main():\n",
    "    # Ask user for choice\n",
    "    print(\"Choose an option:\")\n",
    "    print(\"1. Calculate BMI\")\n",
    "    print(\"2. Convert temperature\")\n",
    "    choice = input(\"Enter 1 or 2: \")\n",
    "\n",
    "    if choice == \"1\":\n",
    "        # BMI Calculation\n",
    "        weight = float(input(\"Enter your weight in kilograms: \"))\n",
    "        height = float(input(\"Enter your height in meters: \"))\n",
    "        bmi = calculate_bmi(weight, height)\n",
    "        print(f\"Your BMI is: {bmi:.2f}\")\n",
    "\n",
    "    elif choice == \"2\":\n",
    "        # Temperature Conversion\n",
    "        print(\"1. Celsius to Fahrenheit\")\n",
    "        print(\"2. Fahrenheit to Celsius\")\n",
    "        temp_choice = input(\"Choose conversion (1 or 2): \")\n",
    "\n",
    "        if temp_choice == \"1\":\n",
    "            celsius = float(input(\"Enter temperature in Celsius: \"))\n",
    "            fahrenheit = celsius_to_fahrenheit(celsius)\n",
    "            print(f\"{celsius}°C is equal to {fahrenheit:.2f}°F\")\n",
    "\n",
    "        elif temp_choice == \"2\":\n",
    "            fahrenheit = float(input(\"Enter temperature in Fahrenheit: \"))\n",
    "            celsius = fahrenheit_to_celsius(fahrenheit)\n",
    "            print(f\"{fahrenheit}°F is equal to {celsius:.2f}°C\")\n",
    "\n",
    "    else:\n",
    "        print(\"Invalid choice. Please choose either 1 or 2.\")\n",
    "\n",
    "# Run the main function\n",
    "if __name__ == \"__main__\":\n",
    "    main()\n"
   ]
  },
  {
   "cell_type": "code",
   "execution_count": 210,
   "id": "bef8ea1b-f7dd-4a94-89e6-d48a3356dbc0",
   "metadata": {},
   "outputs": [
    {
     "ename": "IndentationError",
     "evalue": "expected an indented block after 'if' statement on line 3 (673311338.py, line 5)",
     "output_type": "error",
     "traceback": [
      "\u001b[1;36m  Cell \u001b[1;32mIn[210], line 5\u001b[1;36m\u001b[0m\n\u001b[1;33m    elif another_condition:\u001b[0m\n\u001b[1;37m    ^\u001b[0m\n\u001b[1;31mIndentationError\u001b[0m\u001b[1;31m:\u001b[0m expected an indented block after 'if' statement on line 3\n"
     ]
    }
   ],
   "source": [
    "# Part 2: Control flow in python\n",
    "# Conditionals: if, elif, else\n",
    "if condition:\n",
    "    # block of code if condition is True\n",
    "elif another_condition:\n",
    "    # block of code if the second condition is True\n",
    "else:\n",
    "    # block of code if none of the above conditions are True\n"
   ]
  },
  {
   "cell_type": "code",
   "execution_count": 221,
   "id": "94ea8a22-d808-469c-bcfd-5b5632288868",
   "metadata": {},
   "outputs": [
    {
     "name": "stdout",
     "output_type": "stream",
     "text": [
      "You are an audult.\n"
     ]
    }
   ],
   "source": [
    "# Ex: \n",
    "age = 24\n",
    "if age < 18:\n",
    "    print(\"you are a minor.\")\n",
    "elif age >= 18 and age < 60:\n",
    "    print(\"You are an audult.\")\n",
    "else:\n",
    "    print(\"You are a senior.\")"
   ]
  },
  {
   "cell_type": "code",
   "execution_count": 235,
   "id": "bd35a2a4-0bb5-4e93-b7e8-a1ff883531a8",
   "metadata": {},
   "outputs": [
    {
     "name": "stdout",
     "output_type": "stream",
     "text": [
      "x is Zero\n"
     ]
    }
   ],
   "source": [
    "x = -0\n",
    "\n",
    "if x > 0:\n",
    "    if x % 2==0:\n",
    "        print(\"x is a positive Even number\")\n",
    "    else:\n",
    "        print(\"x is a positive Odd number\")\n",
    "elif x < 0:\n",
    "    if x % 2==0:\n",
    "        print(\"x is a negative Even number\")\n",
    "    else:\n",
    "        print(\"x is a negative Odd number\")\n",
    "else:\n",
    "    print(\"x is Zero\")"
   ]
  },
  {
   "cell_type": "code",
   "execution_count": 241,
   "id": "a03ca967-2a9a-49d0-b3d6-df98322df315",
   "metadata": {},
   "outputs": [
    {
     "name": "stdout",
     "output_type": "stream",
     "text": [
      "Both conditions are True\n"
     ]
    }
   ],
   "source": [
    "x = 10\n",
    "\n",
    "y = 5\n",
    "\n",
    "if x > 5 and y < 10:\n",
    "    print(\"Both conditions are True\")\n",
    "elif x > 5 and not (y < 10):\n",
    "    print(\"x > 5 is True and y < 10 is False\")\n",
    "elif not (x > 5) and y < 10:\n",
    "    print(\"x > 5 is False and y < 10 is True\")\n",
    "else:\n",
    "    print(\"Both conditions are False\")"
   ]
  },
  {
   "cell_type": "code",
   "execution_count": null,
   "id": "2b76f108-dd25-4a04-9703-75179b1c3c13",
   "metadata": {},
   "outputs": [],
   "source": [
    "# Loops: For & While loops\n",
    "# for loop: (for)\n",
    "# The for loop is commonly used to iterate over sequences like lists, ranges, or dictionaries. It runs a block of code for each element in the sequence.\n",
    "\n",
    "# Ex: \n",
    "for i in range(1,6):\n",
    "    print(i)\n",
    "\n"
   ]
  },
  {
   "cell_type": "code",
   "execution_count": 247,
   "id": "47856d45-bc77-49da-82e7-35ac86475747",
   "metadata": {},
   "outputs": [
    {
     "name": "stdout",
     "output_type": "stream",
     "text": [
      "1\n",
      "2\n",
      "3\n",
      "4\n",
      "5\n"
     ]
    }
   ],
   "source": [
    "# While Loop (while)\n",
    "count = 1\n",
    "while count <= :\n",
    "    print(count)\n",
    "    count += 1"
   ]
  },
  {
   "cell_type": "code",
   "execution_count": 7,
   "id": "c79e5a16-1148-439a-92f9-70519f7cce0e",
   "metadata": {},
   "outputs": [
    {
     "name": "stdout",
     "output_type": "stream",
     "text": [
      "1\n",
      "2\n"
     ]
    }
   ],
   "source": [
    "# Loop control: break \n",
    "for i in range(1, 100):\n",
    "    if i == 3:\n",
    "        break\n",
    "    print(i)\n"
   ]
  },
  {
   "cell_type": "code",
   "execution_count": 9,
   "id": "1c990e16-1118-4bc8-88ad-abc66299ace0",
   "metadata": {},
   "outputs": [
    {
     "name": "stdout",
     "output_type": "stream",
     "text": [
      "1\n",
      "2\n",
      "4\n",
      "5\n"
     ]
    }
   ],
   "source": [
    "# Loop control: continue\n",
    "for i in range(1, 6):\n",
    "    if i == 3:\n",
    "        continue\n",
    "    print(i)\n"
   ]
  },
  {
   "cell_type": "code",
   "execution_count": 29,
   "id": "68319cb2-6764-4a4f-bfd5-446e7e1c0269",
   "metadata": {},
   "outputs": [
    {
     "name": "stdin",
     "output_type": "stream",
     "text": [
      "Enter the number of Fibonacci terms:  9\n"
     ]
    },
    {
     "name": "stdout",
     "output_type": "stream",
     "text": [
      "0 1 1 2 3 5 8 13 21 "
     ]
    }
   ],
   "source": [
    "# Practice Tasks\n",
    "# 1. Fibonacci Sequence: The Fibonacci sequence starts with 0 and 1, and each subsequent number is the sum of the previous two. Let’s write a program to print the first n Fibonacci numbers.\n",
    "\n",
    "n = int(input(\"Enter the number of Fibonacci terms: \"))\n",
    "\n",
    "a, b = 0, 1\n",
    "for _ in range(n):\n",
    "    print(a, end=\" \")\n",
    "    a, b = b, a + b  # Update a and b to the next two Fibonacci numbers\n",
    "    \n"
   ]
  },
  {
   "cell_type": "code",
   "execution_count": 47,
   "id": "3e03292f-7d37-43ad-bd90-88fcd7e5bf24",
   "metadata": {},
   "outputs": [
    {
     "name": "stdin",
     "output_type": "stream",
     "text": [
      "Enter a number:  11\n"
     ]
    },
    {
     "name": "stdout",
     "output_type": "stream",
     "text": [
      "2\n",
      "3\n",
      "5\n",
      "7\n",
      "11\n"
     ]
    }
   ],
   "source": [
    "# 2. Prime Numbers:\n",
    "# A prime number is a number greater than 1 that has no divisors other than 1 and itself. Let’s write a program to check if a number is prime and print all primes up to n.\n",
    "\n",
    "n = int(input(\"Enter a number: \"))\n",
    "\n",
    "for num in range(2, n + 1):\n",
    "    is_prime = True\n",
    "    for i in range(2, num):\n",
    "        if num % i == 0:  # If divisible by any number other than 1 and itself\n",
    "            is_prime = False\n",
    "            break\n",
    "    if is_prime:\n",
    "        print(num)\n"
   ]
  },
  {
   "cell_type": "code",
   "execution_count": 49,
   "id": "fd8a0595-482e-4e00-ab76-300ca54e1bb2",
   "metadata": {},
   "outputs": [
    {
     "name": "stdout",
     "output_type": "stream",
     "text": [
      "1\n",
      "4\n",
      "9\n",
      "16\n",
      "25\n",
      "36\n",
      "49\n",
      "64\n",
      "81\n",
      "100\n"
     ]
    }
   ],
   "source": [
    "# 3. Squares of Numbers from 1 to 10 (using a for loop):\n",
    "# Let’s create a for loop that prints the squares of numbers from 1 to 10.\n",
    "\n",
    "for i in range(1, 11):\n",
    "    print(i ** 2)\n",
    "\n"
   ]
  },
  {
   "cell_type": "code",
   "execution_count": 52,
   "id": "d72d0373-268f-4e5a-9c8e-90889eb50be3",
   "metadata": {},
   "outputs": [
    {
     "name": "stdout",
     "output_type": "stream",
     "text": [
      "Hello, Koushik!\n"
     ]
    }
   ],
   "source": [
    "# Part 3: Functions & Modules in Python\n",
    "# 1.  Defining Functions\n",
    "# A function in Python is a block of reusable code that performs a specific task. Functions help break the program into smaller chunks, making code modular, easier to test, and maintain.\n",
    "# Ex:\n",
    "def greet(name):\n",
    "    print(f\"Hello, {name}!\")\n",
    "\n",
    "greet(\"Koushik\")\n"
   ]
  },
  {
   "cell_type": "code",
   "execution_count": 54,
   "id": "fdeebe83-279c-4fce-884a-9518432730e7",
   "metadata": {},
   "outputs": [
    {
     "name": "stdout",
     "output_type": "stream",
     "text": [
      "Hello, Bob. You are 25 years old.\n",
      "Hello, Alice. You are 30 years old.\n"
     ]
    }
   ],
   "source": [
    "def greet(name, age=25):  # age has a default value\n",
    "    print(f\"Hello, {name}. You are {age} years old.\")\n",
    "\n",
    "greet(\"Bob\")         # Output: Hello, Bob. You are 25 years old.\n",
    "greet(\"Alice\", 30)   # Output: Hello, Alice. You are 30 years old.\n"
   ]
  },
  {
   "cell_type": "code",
   "execution_count": 56,
   "id": "2f923fcc-ff9b-4ba7-9a27-f6dc218f6baf",
   "metadata": {},
   "outputs": [
    {
     "name": "stdout",
     "output_type": "stream",
     "text": [
      "John is 30 years old and lives in New York.\n"
     ]
    }
   ],
   "source": [
    "def describe_person(name, age, city):\n",
    "    print(f\"{name} is {age} years old and lives in {city}.\")\n",
    "\n",
    "describe_person(age=30, city=\"New York\", name=\"John\")\n",
    "# Output: John is 30 years old and lives in New York.\n"
   ]
  },
  {
   "cell_type": "code",
   "execution_count": 62,
   "id": "f1a15d7f-2841-4c0e-b8ed-dbbc3a4e37e8",
   "metadata": {},
   "outputs": [
    {
     "name": "stdout",
     "output_type": "stream",
     "text": [
      "10\n"
     ]
    }
   ],
   "source": [
    "# Global Variables Example:\n",
    "\n",
    "x = 10  # Global variable\n",
    "\n",
    "def my_function():\n",
    "    print(x)  # Accessing the global variable inside the function\n",
    "\n",
    "my_function()  # Output: 10\n"
   ]
  },
  {
   "cell_type": "code",
   "execution_count": null,
   "id": "ca09a9b1-3a70-47e6-b025-f086c592e5d8",
   "metadata": {},
   "outputs": [],
   "source": [
    "# Local Variables Example:\n",
    "\n",
    "def my_function():\n",
    "    x = 10  # Local variable\n",
    "    print(x)\n",
    "\n",
    "my_function()  # Output: 10\n",
    "# print(x)  # Error: x is not defined outside the function\n"
   ]
  },
  {
   "cell_type": "code",
   "execution_count": 66,
   "id": "01410622-3de7-4b6a-8cff-e123ee92a3bf",
   "metadata": {},
   "outputs": [
    {
     "name": "stdout",
     "output_type": "stream",
     "text": [
      "4.0\n"
     ]
    }
   ],
   "source": [
    "import math\n",
    "print(math.sqrt(16))  # Output: 4.0\n"
   ]
  },
  {
   "cell_type": "code",
   "execution_count": 96,
   "id": "2efc5158-f0d1-4b69-bf44-da06088fdaf6",
   "metadata": {},
   "outputs": [
    {
     "name": "stdout",
     "output_type": "stream",
     "text": [
      "5.0\n",
      "120\n"
     ]
    }
   ],
   "source": [
    "import math\n",
    "\n",
    "# Square root of a number\n",
    "print(math.sqrt(25))  # Output: 5.0\n",
    "\n",
    "# Factorial of a number\n",
    "print(math.factorial(5))  # Output: 120\n"
   ]
  },
  {
   "cell_type": "code",
   "execution_count": 98,
   "id": "b2753b99-006d-472d-9844-705094a41839",
   "metadata": {},
   "outputs": [
    {
     "name": "stdout",
     "output_type": "stream",
     "text": [
      "120\n"
     ]
    }
   ],
   "source": [
    "# Practice Tasks\n",
    "# 1. Factorial of a Number:\n",
    "# The factorial of a number is the product of all positive integers less than or equal to that number. For example, the factorial of 5 is 5! = 5 * 4 * 3 * 2 * 1 = 120.\n",
    "\n",
    "def factorial(n):\n",
    "    if n == 0:  # Base case\n",
    "        return 1\n",
    "    else:\n",
    "        return n * factorial(n - 1)  # Recursion\n",
    "\n",
    "print(factorial(5))  \n",
    "\n"
   ]
  },
  {
   "cell_type": "code",
   "execution_count": 100,
   "id": "64ce4176-5d88-40a7-bb7f-88e4603efe74",
   "metadata": {},
   "outputs": [
    {
     "name": "stdout",
     "output_type": "stream",
     "text": [
      "10\n"
     ]
    }
   ],
   "source": [
    "print(max(10, 5))  # Output: 10\n"
   ]
  },
  {
   "cell_type": "code",
   "execution_count": 104,
   "id": "b2a94e14-ee7a-4097-8ce0-fb72e22e7d8c",
   "metadata": {},
   "outputs": [
    {
     "name": "stdout",
     "output_type": "stream",
     "text": [
      "1\n",
      "3\n",
      "5\n"
     ]
    }
   ],
   "source": [
    "# Part 4: Working with collection\n",
    "# 4.1 List: Ordered, Mutable Collections\n",
    "\n",
    "# Creating a list\n",
    "numbers = [1, 2, 3, 4, 5]\n",
    "\n",
    "# Accessing elements by index (0-based index)\n",
    "print(numbers[0])  # Output: 1\n",
    "print(numbers[2])  # Output: 3\n",
    "\n",
    "print(numbers[-1])  # Output: 5 (last element)\n"
   ]
  },
  {
   "cell_type": "code",
   "execution_count": 122,
   "id": "05b2fb14-d321-4725-93ca-f372872bc229",
   "metadata": {},
   "outputs": [
    {
     "name": "stdout",
     "output_type": "stream",
     "text": [
      "5\n"
     ]
    }
   ],
   "source": [
    "# 4.1.1 Modifying Lists:\n",
    "# We can modify a list by adding, removing, or changing elements.\n",
    "\n",
    "# Adding elements\n",
    "numbers.append(6)  # Adds 6 to the end of the list\n",
    "\n",
    "# Removing elements\n",
    "numbers.remove(6)  # Removes the first occurrence of 3 from the list\n",
    "\n",
    "# Popping elements (removes and returns an element at a specific index)\n",
    "popped_value = numbers.pop(2)  # Removes and returns the element at index 2\n",
    "print(popped_value)  # Output: 4\n",
    "\n",
    "# Modifying an element\n",
    "numbers[0] = 100  # Changes the first element to 100\n",
    "\n"
   ]
  },
  {
   "cell_type": "code",
   "execution_count": 124,
   "id": "d17c136a-b4d6-4f96-af2b-c2d138c9974b",
   "metadata": {},
   "outputs": [
    {
     "name": "stdout",
     "output_type": "stream",
     "text": [
      "[100, 2, 6, 6, 6, 6, 6]\n"
     ]
    }
   ],
   "source": [
    "print(numbers)"
   ]
  },
  {
   "cell_type": "code",
   "execution_count": 126,
   "id": "d58f0016-c754-4620-b6ec-10d1f73f8359",
   "metadata": {},
   "outputs": [
    {
     "name": "stdout",
     "output_type": "stream",
     "text": [
      "20\n"
     ]
    }
   ],
   "source": [
    "# 4.1.2 List Comprehensions:\n",
    "# List comprehensions provide a concise way to create lists. You can filter and manipulate lists efficiently.\n",
    "\n",
    "# Example: Sum of all even numbers in a list:\n",
    "\n",
    "numbers = [1, 2, 3, 4, 5, 6, 7, 8]\n",
    "even_sum = sum([num for num in numbers if num % 2 == 0])\n",
    "print(even_sum)  # Output: 20 (2 + 4 + 6 + 8)\n",
    "\n",
    "# Common List Methods:\n",
    "# append(): Adds an element to the end.\n",
    "\n",
    "# remove(): Removes the first occurrence of an element.\n",
    "\n",
    "# pop(): Removes and returns an element at a specified index.\n",
    "\n",
    "# sort(): Sorts the list in ascending order (use reverse=True for descending order)."
   ]
  },
  {
   "cell_type": "code",
   "execution_count": 128,
   "id": "a3b77a46-7da7-42f8-9855-2ab4104ac4a9",
   "metadata": {},
   "outputs": [
    {
     "name": "stdout",
     "output_type": "stream",
     "text": [
      "[1, 2, 3, 4, 5, 6, 7, 8]\n"
     ]
    }
   ],
   "source": [
    "numbers.sort()  # Sorts in ascending order\n",
    "print(numbers)"
   ]
  },
  {
   "cell_type": "code",
   "execution_count": 130,
   "id": "8b28c84b-9a3f-4bb2-a62f-85e509e5e6ad",
   "metadata": {},
   "outputs": [
    {
     "name": "stdout",
     "output_type": "stream",
     "text": [
      "3\n",
      "5\n"
     ]
    }
   ],
   "source": [
    "# 4.2 Tuples: Ordered, Immutable Collections\n",
    "# Creating a tuple\n",
    "coordinates = (3, 5)\n",
    "\n",
    "# Accessing tuple elements\n",
    "print(coordinates[0])  # Output: 3\n",
    "print(coordinates[1])  # Output: 5\n"
   ]
  },
  {
   "cell_type": "code",
   "execution_count": 136,
   "id": "de7ceb74-7edf-4b5f-b09e-993cca14f6fa",
   "metadata": {},
   "outputs": [
    {
     "name": "stdout",
     "output_type": "stream",
     "text": [
      "8419600\n"
     ]
    }
   ],
   "source": [
    "# 4.3 Dictionaries: Key-Value Pairs\n",
    "# A dictionary is an unordered collection of data stored in key-value pairs. Dictionaries are mutable, allowing you to change, add, or remove key-value pairs.\n",
    "\n",
    "# Creating a dictionary\n",
    "city_population = {\"New York\": 8419600, \"Los Angeles\": 3980400, \"Chicago\": 2716000}\n",
    "\n",
    "# Accessing values using keys\n",
    "print(city_population[\"New York\"])  # Output: 8419600\n"
   ]
  },
  {
   "cell_type": "code",
   "execution_count": 134,
   "id": "0cb312b7-9fe1-4394-bf75-7eb9bd65c537",
   "metadata": {},
   "outputs": [],
   "source": [
    "# 4.3.1 Modifying Dictionaries:\n",
    "# We can add, remove, or modify key-value pairs.\n",
    "\n",
    "# Modifying a value\n",
    "city_population[\"Chicago\"] = 2800000  # Updating the population\n",
    "\n",
    "# Adding a new key-value pair\n",
    "city_population[\"Houston\"] = 2328000\n",
    "\n",
    "# Removing a key-value pair\n",
    "del city_population[\"Los Angeles\"]\n"
   ]
  },
  {
   "cell_type": "code",
   "execution_count": 138,
   "id": "bd0d21b8-44b4-4c9d-9ce6-4a74929ebc99",
   "metadata": {},
   "outputs": [
    {
     "name": "stdout",
     "output_type": "stream",
     "text": [
      "dict_keys(['New York', 'Los Angeles', 'Chicago'])\n",
      "dict_values([8419600, 3980400, 2716000])\n",
      "dict_items([('New York', 8419600), ('Los Angeles', 3980400), ('Chicago', 2716000)])\n"
     ]
    }
   ],
   "source": [
    "print(city_population.keys())   # Output: dict_keys(['New York', 'Chicago', 'Houston'])\n",
    "print(city_population.values())  # Output: dict_values([8419600, 2800000, 2328000])\n",
    "print(city_population.items())  # Output: dict_items([('New York', 8419600), ('Chicago', 2800000), ('Houston', 2328000)])\n"
   ]
  },
  {
   "cell_type": "code",
   "execution_count": 140,
   "id": "b78bb2d3-6daa-4e0b-84b6-c1e050b78a96",
   "metadata": {},
   "outputs": [
    {
     "name": "stdout",
     "output_type": "stream",
     "text": [
      "{1, 2, 3}\n"
     ]
    }
   ],
   "source": [
    "# 4.4 Sets: Unordered Collections of Unique Elements\n",
    "# A set is an unordered collection of unique elements. Sets are useful for storing items that should not have duplicates and for performing set operations like union, intersection, and difference.\n",
    "# Creating Sets:\n",
    "# A set is created using curly braces {} or the set() function.\n",
    "\n",
    "# Creating a set\n",
    "numbers_set = {1, 2, 3, 4, 5}\n",
    "\n",
    "# Creating a set from a list (removes duplicates)\n",
    "duplicate_numbers = [1, 2, 3, 2, 1]\n",
    "unique_numbers = set(duplicate_numbers)\n",
    "print(unique_numbers)  # Output: {1, 2, 3}\n"
   ]
  },
  {
   "cell_type": "code",
   "execution_count": 158,
   "id": "3b09cf28-fa58-482e-88fa-1d2dcac2bdce",
   "metadata": {},
   "outputs": [
    {
     "name": "stdout",
     "output_type": "stream",
     "text": [
      "{1, 2, 3, 4, 5, 6}\n",
      "{3, 4}\n",
      "{1, 2}\n"
     ]
    }
   ],
   "source": [
    "# Set Operations:\n",
    "# Union (|): Combines two sets, removing duplicates.\n",
    "\n",
    "# Intersection (&): Returns the common elements between two sets.\n",
    "\n",
    "# Difference (-): Returns elements that are in one set but not the other.\n",
    "\n",
    "set1 = {1, 2, 3, 4}\n",
    "set2 = {3, 4, 5, 6}\n",
    "\n",
    "# Union\n",
    "union_set = set1 | set2  # Output: {1, 2, 3, 4, 5, 6}\n",
    "print(union_set)\n",
    "# Intersection\n",
    "intersection_set = set1 & set2  # Output: {3, 4}\n",
    "print(intersection_set)\n",
    "# Difference\n",
    "difference_set = set1 - set2  # Output: {1, 2}\n",
    "print(difference_set)\n"
   ]
  },
  {
   "cell_type": "code",
   "execution_count": 160,
   "id": "74ac8209-73d4-43ff-9bb9-66df4e49166b",
   "metadata": {},
   "outputs": [
    {
     "name": "stdout",
     "output_type": "stream",
     "text": [
      "20\n"
     ]
    }
   ],
   "source": [
    "# Practice Task\n",
    "# 1. Sum of All Even Numbers in a List using List Comprehensions:\n",
    "\n",
    "numbers = [1, 2, 3, 4, 5, 6, 7, 8]\n",
    "even_sum = sum([num for num in numbers if num % 2 == 0])\n",
    "print(even_sum)  "
   ]
  },
  {
   "cell_type": "code",
   "execution_count": 162,
   "id": "38454248-54a8-41d8-9a17-3e5b14cb8deb",
   "metadata": {},
   "outputs": [
    {
     "name": "stdout",
     "output_type": "stream",
     "text": [
      "The population of New York is 8419600.\n",
      "The population of Los Angeles is 3980400.\n",
      "The population of Chicago is 2716000.\n"
     ]
    }
   ],
   "source": [
    "# 2. Create a Dictionary with City Names as Keys and Populations as Values:\n",
    "\n",
    "city_population = {\"New York\": 8419600, \"Los Angeles\": 3980400, \"Chicago\": 2716000}\n",
    "\n",
    "for city, population in city_population.items():\n",
    "    print(f\"The population of {city} is {population}.\")\n"
   ]
  },
  {
   "cell_type": "code",
   "execution_count": 164,
   "id": "b109fa9c-4345-4cb8-864e-1581aade873c",
   "metadata": {},
   "outputs": [
    {
     "name": "stdout",
     "output_type": "stream",
     "text": [
      "{4, 5}\n"
     ]
    }
   ],
   "source": [
    "# 3. Use Sets to Find Common Elements between Two Lists:\n",
    "\n",
    "list1 = [1, 2, 3, 4, 5]\n",
    "list2 = [4, 5, 6, 7, 8]\n",
    "\n",
    "set1 = set(list1)\n",
    "set2 = set(list2)\n",
    "\n",
    "common_elements = set1 & set2\n",
    "print(common_elements) \n"
   ]
  },
  {
   "cell_type": "code",
   "execution_count": 176,
   "id": "0b277b55-b960-4e2f-b51b-8230b54499c0",
   "metadata": {},
   "outputs": [
    {
     "name": "stdout",
     "output_type": "stream",
     "text": [
      "    Name  Age Grade\n",
      "0   John   22     A\n",
      "1   Jane   25     B\n",
      "2  Alice   24     B\n",
      "3    Bob   23     A\n"
     ]
    }
   ],
   "source": [
    "# Part 5: Introduction to Python Libraries for Data Science\n",
    "\n",
    "# 1. NumPy: Numerical Computing and Arrays\n",
    "# 2. Pandas: Data Manipulation and Analysis\n",
    "import pandas as pd\n",
    "\n",
    "data = {\n",
    "    \"Name\": [\"John\",\"Jane\",\"Alice\",\"Bob\"],\n",
    "    \"Age\":[22,25,24,23],\n",
    "    \"Grade\": [\"A\",\"B\",\"B\",\"A\"]\n",
    "}\n",
    "\n",
    "df=pd.DataFrame(data)\n",
    "print(df)"
   ]
  },
  {
   "cell_type": "code",
   "execution_count": 178,
   "id": "d81d559c-6725-4d9a-b22d-f53b55d223a7",
   "metadata": {},
   "outputs": [
    {
     "name": "stdout",
     "output_type": "stream",
     "text": [
      "0     John\n",
      "1     Jane\n",
      "2    Alice\n",
      "3      Bob\n",
      "Name: Name, dtype: object\n"
     ]
    }
   ],
   "source": [
    "# Accessing a specific column (returns a Series)\n",
    "print(df[\"Name\"])"
   ]
  },
  {
   "cell_type": "code",
   "execution_count": 180,
   "id": "292a46e0-973e-4bda-9f8d-a45578b6e73b",
   "metadata": {},
   "outputs": [
    {
     "name": "stdout",
     "output_type": "stream",
     "text": [
      "Name     Jane\n",
      "Age        25\n",
      "Grade       B\n",
      "Name: 1, dtype: object\n"
     ]
    }
   ],
   "source": [
    "# Accessing a specific row (by index)\n",
    "print(df.iloc[1])  # Accesses the second row"
   ]
  },
  {
   "cell_type": "code",
   "execution_count": 182,
   "id": "2e7e6e1c-4237-4369-a7ab-13a16ef365fc",
   "metadata": {},
   "outputs": [
    {
     "name": "stdout",
     "output_type": "stream",
     "text": [
      "    Name  Age Grade\n",
      "1   Jane   25     B\n",
      "2  Alice   24     B\n"
     ]
    }
   ],
   "source": [
    "# Filtering data (for example, select rows where Age is greater than 23)\n",
    "filtered_df = df[df[\"Age\"] > 23]\n",
    "print(filtered_df)"
   ]
  },
  {
   "cell_type": "code",
   "execution_count": 184,
   "id": "698c5c6f-a409-460f-abba-302436f161b1",
   "metadata": {},
   "outputs": [
    {
     "name": "stdout",
     "output_type": "stream",
     "text": [
      "    Name  Age Grade\n",
      "1   Jane   25     B\n",
      "2  Alice   24     B\n",
      "3    Bob   23     A\n",
      "0   John   22     A\n"
     ]
    }
   ],
   "source": [
    "# Sorting data by a column\n",
    "sorted_df = df.sort_values(\"Age\", ascending=False)\n",
    "print(sorted_df)"
   ]
  },
  {
   "cell_type": "code",
   "execution_count": 186,
   "id": "0461ef78-8da1-45b3-b4e0-e6c956c47478",
   "metadata": {},
   "outputs": [
    {
     "name": "stdout",
     "output_type": "stream",
     "text": [
      "Average Age: 23.5\n"
     ]
    }
   ],
   "source": [
    "# Aggregation (find the average age)\n",
    "avg_age = df[\"Age\"].mean()\n",
    "print(\"Average Age:\", avg_age)"
   ]
  },
  {
   "cell_type": "code",
   "execution_count": 188,
   "id": "84120053-340a-4f9f-9fbc-e1f45d20ae8e",
   "metadata": {},
   "outputs": [
    {
     "name": "stdout",
     "output_type": "stream",
     "text": [
      "     Name  Age Grade\n",
      "0    John   20     A\n",
      "1    Emma   22     B\n",
      "2    Liam   21     B\n",
      "3  Olivia   19     A\n",
      "4  Sophia   23     A\n"
     ]
    }
   ],
   "source": [
    "# Practice Task\n",
    "\n",
    "import pandas as pd\n",
    "\n",
    "# Creating a dataset using a dictionary\n",
    "students_data = {\n",
    "    \"Name\": [\"John\", \"Emma\", \"Liam\", \"Olivia\", \"Sophia\"],\n",
    "    \"Age\": [20, 22, 21, 19, 23],\n",
    "    \"Grade\": [\"A\", \"B\", \"B\", \"A\", \"A\"]\n",
    "}\n",
    "\n",
    "# Load the dataset into a Pandas DataFrame\n",
    "df_students = pd.DataFrame(students_data)\n",
    "\n",
    "# Print the DataFrame\n",
    "print(df_students)"
   ]
  },
  {
   "cell_type": "code",
   "execution_count": 192,
   "id": "d11f0c4d-7bda-472b-9267-da332d88469c",
   "metadata": {},
   "outputs": [
    {
     "name": "stdout",
     "output_type": "stream",
     "text": [
      "Average Age of Students: 21.0\n"
     ]
    }
   ],
   "source": [
    "# Find avg age\n",
    "avg_age = df_students[\"Age\"].mean()\n",
    "print(\"Average Age of Students:\", avg_age) "
   ]
  },
  {
   "cell_type": "code",
   "execution_count": 194,
   "id": "ff82501e-9d6f-4cf9-8f63-bb2aace533c9",
   "metadata": {},
   "outputs": [
    {
     "name": "stdout",
     "output_type": "stream",
     "text": [
      "     Name  Age Grade\n",
      "3  Olivia   19     A\n",
      "0    John   20     A\n",
      "2    Liam   21     B\n",
      "1    Emma   22     B\n",
      "4  Sophia   23     A\n"
     ]
    }
   ],
   "source": [
    "# Sort the students by age\n",
    "sorted_students = df_students.sort_values(\"Age\", ascending=True)\n",
    "print(sorted_students)"
   ]
  },
  {
   "cell_type": "code",
   "execution_count": 198,
   "id": "3c8ff4c1-a80c-4adb-99dc-dcffe8e31b3f",
   "metadata": {},
   "outputs": [
    {
     "name": "stdout",
     "output_type": "stream",
     "text": [
      "     Name  Age Grade\n",
      "0    John   20     A\n",
      "3  Olivia   19     A\n",
      "4  Sophia   23     A\n"
     ]
    }
   ],
   "source": [
    "# Filter students with Grade A\n",
    "grade_A_students = df_students[df_students[\"Grade\"] == \"A\"]\n",
    "print(grade_A_students)\n"
   ]
  },
  {
   "cell_type": "code",
   "execution_count": 207,
   "id": "20cfa298-713e-4efb-960d-0a92f5792c20",
   "metadata": {},
   "outputs": [
    {
     "data": {
      "text/html": [
       "<div>\n",
       "<style scoped>\n",
       "    .dataframe tbody tr th:only-of-type {\n",
       "        vertical-align: middle;\n",
       "    }\n",
       "\n",
       "    .dataframe tbody tr th {\n",
       "        vertical-align: top;\n",
       "    }\n",
       "\n",
       "    .dataframe thead th {\n",
       "        text-align: right;\n",
       "    }\n",
       "</style>\n",
       "<table border=\"1\" class=\"dataframe\">\n",
       "  <thead>\n",
       "    <tr style=\"text-align: right;\">\n",
       "      <th></th>\n",
       "      <th>Score</th>\n",
       "    </tr>\n",
       "  </thead>\n",
       "  <tbody>\n",
       "    <tr>\n",
       "      <th>count</th>\n",
       "      <td>20.000000</td>\n",
       "    </tr>\n",
       "    <tr>\n",
       "      <th>mean</th>\n",
       "      <td>81.300000</td>\n",
       "    </tr>\n",
       "    <tr>\n",
       "      <th>std</th>\n",
       "      <td>12.100892</td>\n",
       "    </tr>\n",
       "    <tr>\n",
       "      <th>min</th>\n",
       "      <td>55.000000</td>\n",
       "    </tr>\n",
       "    <tr>\n",
       "      <th>25%</th>\n",
       "      <td>73.250000</td>\n",
       "    </tr>\n",
       "    <tr>\n",
       "      <th>50%</th>\n",
       "      <td>84.000000</td>\n",
       "    </tr>\n",
       "    <tr>\n",
       "      <th>75%</th>\n",
       "      <td>91.250000</td>\n",
       "    </tr>\n",
       "    <tr>\n",
       "      <th>max</th>\n",
       "      <td>97.000000</td>\n",
       "    </tr>\n",
       "  </tbody>\n",
       "</table>\n",
       "</div>"
      ],
      "text/plain": [
       "           Score\n",
       "count  20.000000\n",
       "mean   81.300000\n",
       "std    12.100892\n",
       "min    55.000000\n",
       "25%    73.250000\n",
       "50%    84.000000\n",
       "75%    91.250000\n",
       "max    97.000000"
      ]
     },
     "execution_count": 207,
     "metadata": {},
     "output_type": "execute_result"
    }
   ],
   "source": [
    "# Part 6: Practice Excercise\n",
    "\n",
    "# Step 1: Create a Simple Dataset\n",
    "# Step 2: import data\n",
    "\n",
    "import pandas as pd\n",
    "\n",
    "df = pd.read_csv('students_grade.csv')\n",
    "\n",
    "# Data Explore:\n",
    "df.describe()"
   ]
  },
  {
   "cell_type": "code",
   "execution_count": 211,
   "id": "30c601dc-a4b0-4108-9339-97d15e4884d6",
   "metadata": {},
   "outputs": [
    {
     "name": "stdout",
     "output_type": "stream",
     "text": [
      "<class 'pandas.core.frame.DataFrame'>\n",
      "RangeIndex: 20 entries, 0 to 19\n",
      "Data columns (total 3 columns):\n",
      " #   Column  Non-Null Count  Dtype \n",
      "---  ------  --------------  ----- \n",
      " 0   Name    20 non-null     object\n",
      " 1   Grade   20 non-null     object\n",
      " 2   Score   20 non-null     int64 \n",
      "dtypes: int64(1), object(2)\n",
      "memory usage: 612.0+ bytes\n"
     ]
    }
   ],
   "source": [
    "df.info()"
   ]
  },
  {
   "cell_type": "code",
   "execution_count": 235,
   "id": "d7bf3147-5e10-40d0-a5d7-9e8bbbcbe08a",
   "metadata": {},
   "outputs": [
    {
     "data": {
      "text/html": [
       "<div>\n",
       "<style scoped>\n",
       "    .dataframe tbody tr th:only-of-type {\n",
       "        vertical-align: middle;\n",
       "    }\n",
       "\n",
       "    .dataframe tbody tr th {\n",
       "        vertical-align: top;\n",
       "    }\n",
       "\n",
       "    .dataframe thead th {\n",
       "        text-align: right;\n",
       "    }\n",
       "</style>\n",
       "<table border=\"1\" class=\"dataframe\">\n",
       "  <thead>\n",
       "    <tr style=\"text-align: right;\">\n",
       "      <th></th>\n",
       "      <th>Name</th>\n",
       "      <th>Grade</th>\n",
       "      <th>Score</th>\n",
       "    </tr>\n",
       "  </thead>\n",
       "  <tbody>\n",
       "    <tr>\n",
       "      <th>0</th>\n",
       "      <td>Aiden</td>\n",
       "      <td>B</td>\n",
       "      <td>82</td>\n",
       "    </tr>\n",
       "    <tr>\n",
       "      <th>1</th>\n",
       "      <td>Bella</td>\n",
       "      <td>A</td>\n",
       "      <td>92</td>\n",
       "    </tr>\n",
       "    <tr>\n",
       "      <th>2</th>\n",
       "      <td>Charlie</td>\n",
       "      <td>C</td>\n",
       "      <td>67</td>\n",
       "    </tr>\n",
       "    <tr>\n",
       "      <th>3</th>\n",
       "      <td>Diana</td>\n",
       "      <td>B</td>\n",
       "      <td>88</td>\n",
       "    </tr>\n",
       "    <tr>\n",
       "      <th>4</th>\n",
       "      <td>Ethan</td>\n",
       "      <td>A</td>\n",
       "      <td>95</td>\n",
       "    </tr>\n",
       "    <tr>\n",
       "      <th>5</th>\n",
       "      <td>Fiona</td>\n",
       "      <td>C</td>\n",
       "      <td>71</td>\n",
       "    </tr>\n",
       "    <tr>\n",
       "      <th>6</th>\n",
       "      <td>George</td>\n",
       "      <td>B</td>\n",
       "      <td>85</td>\n",
       "    </tr>\n",
       "    <tr>\n",
       "      <th>7</th>\n",
       "      <td>Hannah</td>\n",
       "      <td>A</td>\n",
       "      <td>91</td>\n",
       "    </tr>\n",
       "    <tr>\n",
       "      <th>8</th>\n",
       "      <td>Isaac</td>\n",
       "      <td>D</td>\n",
       "      <td>60</td>\n",
       "    </tr>\n",
       "    <tr>\n",
       "      <th>9</th>\n",
       "      <td>Jack</td>\n",
       "      <td>C</td>\n",
       "      <td>75</td>\n",
       "    </tr>\n",
       "  </tbody>\n",
       "</table>\n",
       "</div>"
      ],
      "text/plain": [
       "      Name Grade  Score\n",
       "0    Aiden     B     82\n",
       "1    Bella     A     92\n",
       "2  Charlie     C     67\n",
       "3    Diana     B     88\n",
       "4    Ethan     A     95\n",
       "5    Fiona     C     71\n",
       "6   George     B     85\n",
       "7   Hannah     A     91\n",
       "8    Isaac     D     60\n",
       "9     Jack     C     75"
      ]
     },
     "execution_count": 235,
     "metadata": {},
     "output_type": "execute_result"
    }
   ],
   "source": [
    "df.head(10)"
   ]
  },
  {
   "cell_type": "code",
   "execution_count": 239,
   "id": "1c80c863-61b6-4e1e-9642-a63f3d41aebf",
   "metadata": {},
   "outputs": [
    {
     "data": {
      "text/plain": [
       "Index(['Name', 'Grade', 'Score'], dtype='object')"
      ]
     },
     "execution_count": 239,
     "metadata": {},
     "output_type": "execute_result"
    }
   ],
   "source": [
    "df.columns"
   ]
  },
  {
   "cell_type": "code",
   "execution_count": 249,
   "id": "bed200f1-6bb5-4f50-8768-e6b4fcc56f84",
   "metadata": {},
   "outputs": [
    {
     "name": "stdout",
     "output_type": "stream",
     "text": [
      "\n",
      "Sorted students by grade:\n",
      "       Name Grade  Score\n",
      "15     Paul     D     55\n",
      "8     Isaac     D     60\n",
      "19    Tyler     C     74\n",
      "2   Charlie     C     67\n",
      "5     Fiona     C     71\n",
      "9      Jack     C     75\n",
      "13     Noah     C     70\n",
      "11     Liam     B     83\n",
      "18   Sophia     B     78\n",
      "16    Quinn     B     89\n",
      "14   Olivia     B     87\n",
      "0     Aiden     B     82\n",
      "6    George     B     85\n",
      "3     Diana     B     88\n",
      "12      Mia     A     97\n",
      "1     Bella     A     92\n",
      "7    Hannah     A     91\n",
      "4     Ethan     A     95\n",
      "17    Riley     A     93\n",
      "10     Kara     A     94\n"
     ]
    }
   ],
   "source": [
    "sorted_df = df.sort_values(by='Grade', ascending=False)\n",
    "print(\"\\nSorted students by grade:\")\n",
    "print(sorted_df)"
   ]
  },
  {
   "cell_type": "code",
   "execution_count": 255,
   "id": "72be2c7a-117a-4b46-8639-e1e4aabfb413",
   "metadata": {},
   "outputs": [
    {
     "name": "stdout",
     "output_type": "stream",
     "text": [
      "      Name Grade  Score\n",
      "0    Aiden     B     82\n",
      "1    Bella     A     92\n",
      "3    Diana     B     88\n",
      "4    Ethan     A     95\n",
      "6   George     B     85\n",
      "7   Hannah     A     91\n",
      "10    Kara     A     94\n",
      "11    Liam     B     83\n",
      "12     Mia     A     97\n",
      "14  Olivia     B     87\n",
      "16   Quinn     B     89\n",
      "17   Riley     A     93\n",
      "18  Sophia     B     78\n"
     ]
    }
   ],
   "source": [
    "# Step 4: Filter students with grades above 75\n",
    "filtered_df = df[df['Score'] > 75]\n",
    "print(filtered_df)\n"
   ]
  },
  {
   "cell_type": "code",
   "execution_count": null,
   "id": "0d28d7be-aa05-49dd-a75e-dc1d390e3fbf",
   "metadata": {},
   "outputs": [],
   "source": []
  },
  {
   "cell_type": "code",
   "execution_count": null,
   "id": "96803ce3-aeeb-4757-94c6-0b21313b4394",
   "metadata": {},
   "outputs": [],
   "source": []
  },
  {
   "cell_type": "code",
   "execution_count": null,
   "id": "63fb5c63-ea76-4245-8158-5f4540e6cfb6",
   "metadata": {},
   "outputs": [],
   "source": []
  },
  {
   "cell_type": "code",
   "execution_count": null,
   "id": "f936bd0d-cf90-4736-b96b-4940e851964d",
   "metadata": {},
   "outputs": [],
   "source": []
  },
  {
   "cell_type": "code",
   "execution_count": null,
   "id": "29aec499-d5f0-4412-abf7-45dc9aa7922d",
   "metadata": {},
   "outputs": [],
   "source": []
  },
  {
   "cell_type": "code",
   "execution_count": null,
   "id": "ff2cab55-773c-47ae-ba13-9ca60437961a",
   "metadata": {},
   "outputs": [],
   "source": []
  },
  {
   "cell_type": "code",
   "execution_count": null,
   "id": "abaeb4f1-ed40-45fe-a34e-544ea961541f",
   "metadata": {},
   "outputs": [],
   "source": []
  },
  {
   "cell_type": "code",
   "execution_count": null,
   "id": "0adcd063-b624-4a73-aaf8-5b08fd6a3f14",
   "metadata": {},
   "outputs": [],
   "source": []
  },
  {
   "cell_type": "code",
   "execution_count": null,
   "id": "7d7e3c05-91b2-49a3-80f8-375c30c261c1",
   "metadata": {},
   "outputs": [],
   "source": []
  },
  {
   "cell_type": "code",
   "execution_count": null,
   "id": "cd55b5df-4ba0-4ed2-8b95-1f9817b14cb1",
   "metadata": {},
   "outputs": [],
   "source": []
  },
  {
   "cell_type": "code",
   "execution_count": null,
   "id": "91364d5e-74f1-4341-ad7a-8bc65d005413",
   "metadata": {},
   "outputs": [],
   "source": []
  },
  {
   "cell_type": "code",
   "execution_count": null,
   "id": "0c5d7b87-0da9-4590-b7fc-a8cd9ee2d7c3",
   "metadata": {},
   "outputs": [],
   "source": []
  },
  {
   "cell_type": "code",
   "execution_count": null,
   "id": "42c5506b-c220-4885-9c65-3598eb97a7a4",
   "metadata": {},
   "outputs": [],
   "source": []
  },
  {
   "cell_type": "code",
   "execution_count": null,
   "id": "b2b936e3-1a5e-49a7-b020-8b73ecd76296",
   "metadata": {},
   "outputs": [],
   "source": []
  },
  {
   "cell_type": "code",
   "execution_count": null,
   "id": "8e8e6c9d-c3ae-480b-9c88-cd47b32de31d",
   "metadata": {},
   "outputs": [],
   "source": []
  },
  {
   "cell_type": "code",
   "execution_count": null,
   "id": "f10a88af-9804-4c84-825f-52563285233f",
   "metadata": {},
   "outputs": [],
   "source": []
  },
  {
   "cell_type": "code",
   "execution_count": null,
   "id": "059a1614-a1fb-409e-9b5e-c615d15eff24",
   "metadata": {},
   "outputs": [],
   "source": []
  },
  {
   "cell_type": "code",
   "execution_count": null,
   "id": "f3138de0-0ffd-430f-8c70-2d9bacf8b5a6",
   "metadata": {},
   "outputs": [],
   "source": []
  },
  {
   "cell_type": "code",
   "execution_count": null,
   "id": "1f944128-ab54-4460-aa28-f5f84cde257b",
   "metadata": {},
   "outputs": [],
   "source": []
  }
 ],
 "metadata": {
  "kernelspec": {
   "display_name": "Python [conda env:base] *",
   "language": "python",
   "name": "conda-base-py"
  },
  "language_info": {
   "codemirror_mode": {
    "name": "ipython",
    "version": 3
   },
   "file_extension": ".py",
   "mimetype": "text/x-python",
   "name": "python",
   "nbconvert_exporter": "python",
   "pygments_lexer": "ipython3",
   "version": "3.12.7"
  }
 },
 "nbformat": 4,
 "nbformat_minor": 5
}
