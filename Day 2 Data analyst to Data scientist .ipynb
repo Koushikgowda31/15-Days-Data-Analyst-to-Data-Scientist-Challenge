{
 "cells": [
  {
   "cell_type": "code",
   "execution_count": 23,
   "id": "862f0260-0d9f-4d2c-84b0-ff5ea7812426",
   "metadata": {},
   "outputs": [
    {
     "name": "stdout",
     "output_type": "stream",
     "text": [
      "[ 6  7  8  9 10]\n",
      "[ 2  4  6  8 10]\n",
      "3.0\n",
      "1.4142135623730951\n",
      "Original array: [1 2 3 4 5]\n",
      "sliced subset (from index 2 to 5): [3 4 5]\n"
     ]
    }
   ],
   "source": [
    "# 1. Introduction to numpy( We use array instead of index)\n",
    "import pandas as pd\n",
    "import numpy as np\n",
    "\n",
    "arr = np.array([1,2,3,4,5])\n",
    "\n",
    "print(arr + 5)\n",
    "print(arr * 2)\n",
    "print(np.mean(arr))\n",
    "print(np.std(arr))\n",
    "\n",
    "# Slicing array\n",
    "subset = arr[2:6]\n",
    "print(\"Original array:\", arr)\n",
    "print(\"sliced subset (from index 2 to 5):\", subset)"
   ]
  },
  {
   "cell_type": "code",
   "execution_count": 81,
   "id": "ff354492-19c5-41c4-a594-b2594fdb1c55",
   "metadata": {},
   "outputs": [
    {
     "name": "stdout",
     "output_type": "stream",
     "text": [
      "[15 25 35 45 55 65 75 85 95]\n",
      "[ 100  400  900 1600 2500 3600 4900 6400 8100]\n",
      "[ 20  40  60  80 100 120 140 160 180]\n",
      "50.0\n",
      "25.81988897471611\n",
      "original array: [10 20 30 40 50 60 70 80 90]\n",
      "Slicied subset1 (from index 4 to 7): [50 60 70]\n"
     ]
    }
   ],
   "source": [
    "arr2 = np.array([10,20,30,40,50,60,70,80,90])\n",
    "print(arr2 + 5)\n",
    "print(arr2 ** 2)\n",
    "print(arr2 *2 )\n",
    "print(np.mean(arr2))\n",
    "print(np.std(arr2))\n",
    "\n",
    "subset2 = arr2 [4:7]\n",
    "print(\"original array:\", arr2)\n",
    "print(\"Slicied subset1 (from index 4 to 7):\", subset2)"
   ]
  },
  {
   "cell_type": "code",
   "execution_count": 85,
   "id": "0dc6a699-d2b3-48a1-9deb-05b6b051e7fa",
   "metadata": {},
   "outputs": [
    {
     "name": "stdout",
     "output_type": "stream",
     "text": [
      "a    10\n",
      "b    20\n",
      "c    30\n",
      "d    40\n",
      "e    50\n",
      "f    60\n",
      "dtype: int64\n"
     ]
    }
   ],
   "source": [
    "# 2. Introduction to Pandas (here we use series with labeled axes or index instead od array)\n",
    "series = pd.Series([10,20,30,40,50,60], index=['a','b','c','d','e','f'])\n",
    "print(series)"
   ]
  },
  {
   "cell_type": "code",
   "execution_count": 87,
   "id": "3c87bf36-8fda-4245-a27a-4fe7e707d855",
   "metadata": {},
   "outputs": [
    {
     "name": "stdout",
     "output_type": "stream",
     "text": [
      "1    10\n",
      "2    20\n",
      "3    30\n",
      "4    40\n",
      "5    50\n",
      "6    60\n",
      "dtype: int64\n"
     ]
    }
   ],
   "source": [
    "series = pd.Series([10,20,30,40,50,60], index=[1,2,3,4,5,6])\n",
    "print(series)"
   ]
  },
  {
   "cell_type": "code",
   "execution_count": 89,
   "id": "dcf397d0-1d4e-419d-90cd-cdcb9d304b29",
   "metadata": {},
   "outputs": [
    {
     "name": "stdout",
     "output_type": "stream",
     "text": [
      "      Name  Age     City\n",
      "0    Alice   24      NYC\n",
      "1      Bob   27       LA\n",
      "2  Charlie   22  Chicago\n"
     ]
    }
   ],
   "source": [
    "# Creating a DataFrame\n",
    "\n",
    "data = {'Name': ['Alice', 'Bob', 'Charlie'], 'Age': [24, 27, 22], 'City': ['NYC', 'LA', 'Chicago']}\n",
    "df = pd.DataFrame(data)\n",
    "print(df)\n"
   ]
  },
  {
   "cell_type": "code",
   "execution_count": 91,
   "id": "0b664d76-593e-4c11-87cb-0496b66155a5",
   "metadata": {},
   "outputs": [
    {
     "name": "stdout",
     "output_type": "stream",
     "text": [
      "       Name  age      city\n",
      "0   Koushik   24  Chakkere\n",
      "1  Keerthan   27  Haniyuru\n",
      "2      Ravi   38  Haniyuru\n"
     ]
    }
   ],
   "source": [
    "data1 = {'Name':['Koushik','Keerthan','Ravi'],'age':[24,27,38],'city': ['Chakkere','Haniyuru','Haniyuru']}\n",
    "df = pd.DataFrame(data1)\n",
    "print(df)"
   ]
  },
  {
   "cell_type": "code",
   "execution_count": 97,
   "id": "10fffec5-8677-4c73-81e4-42c51ae6369a",
   "metadata": {},
   "outputs": [
    {
     "name": "stdout",
     "output_type": "stream",
     "text": [
      "   pclass  survived                                             name     sex  \\\n",
      "0       1         1                    Allen, Miss. Elisabeth Walton  female   \n",
      "1       1         1                   Allison, Master. Hudson Trevor    male   \n",
      "2       1         0                     Allison, Miss. Helen Loraine  female   \n",
      "3       1         0             Allison, Mr. Hudson Joshua Creighton    male   \n",
      "4       1         0  Allison, Mrs. Hudson J C (Bessie Waldo Daniels)  female   \n",
      "5       1         1                              Anderson, Mr. Harry    male   \n",
      "6       1         1                Andrews, Miss. Kornelia Theodosia  female   \n",
      "7       1         0                           Andrews, Mr. Thomas Jr    male   \n",
      "8       1         1    Appleton, Mrs. Edward Dale (Charlotte Lamson)  female   \n",
      "9       1         0                          Artagaveytia, Mr. Ramon    male   \n",
      "\n",
      "     age  sibsp  parch    ticket      fare    cabin embarked boat   body  \\\n",
      "0  29.00      0      0     24160  211.3375       B5        S    2    NaN   \n",
      "1   0.92      1      2    113781  151.5500  C22 C26        S   11    NaN   \n",
      "2   2.00      1      2    113781  151.5500  C22 C26        S  NaN    NaN   \n",
      "3  30.00      1      2    113781  151.5500  C22 C26        S  NaN  135.0   \n",
      "4  25.00      1      2    113781  151.5500  C22 C26        S  NaN    NaN   \n",
      "5  48.00      0      0     19952   26.5500      E12        S    3    NaN   \n",
      "6  63.00      1      0     13502   77.9583       D7        S   10    NaN   \n",
      "7  39.00      0      0    112050    0.0000      A36        S  NaN    NaN   \n",
      "8  53.00      2      0     11769   51.4792     C101        S    D    NaN   \n",
      "9  71.00      0      0  PC 17609   49.5042      NaN        C  NaN   22.0   \n",
      "\n",
      "                         home.dest  \n",
      "0                     St Louis, MO  \n",
      "1  Montreal, PQ / Chesterville, ON  \n",
      "2  Montreal, PQ / Chesterville, ON  \n",
      "3  Montreal, PQ / Chesterville, ON  \n",
      "4  Montreal, PQ / Chesterville, ON  \n",
      "5                     New York, NY  \n",
      "6                       Hudson, NY  \n",
      "7                      Belfast, NI  \n",
      "8              Bayside, Queens, NY  \n",
      "9              Montevideo, Uruguay  \n"
     ]
    }
   ],
   "source": [
    "# Loading data\n",
    "df =pd.read_csv('titanic passenger list.csv')\n",
    "\n",
    "# 3. Data Frame operations are Sorting,  filtering, df.head, df.tal, df.describe, df.info\n",
    "print(df.head(10))"
   ]
  },
  {
   "cell_type": "code",
   "execution_count": 101,
   "id": "a6384573-5497-422c-8c5b-9dc3d28efb48",
   "metadata": {},
   "outputs": [
    {
     "name": "stdout",
     "output_type": "stream",
     "text": [
      "            pclass     survived          age        sibsp        parch  \\\n",
      "count  1309.000000  1309.000000  1046.000000  1309.000000  1309.000000   \n",
      "mean      2.294882     0.381971    29.881138     0.498854     0.385027   \n",
      "std       0.837836     0.486055    14.413493     1.041658     0.865560   \n",
      "min       1.000000     0.000000     0.170000     0.000000     0.000000   \n",
      "25%       2.000000     0.000000    21.000000     0.000000     0.000000   \n",
      "50%       3.000000     0.000000    28.000000     0.000000     0.000000   \n",
      "75%       3.000000     1.000000    39.000000     1.000000     0.000000   \n",
      "max       3.000000     1.000000    80.000000     8.000000     9.000000   \n",
      "\n",
      "              fare        body  \n",
      "count  1308.000000  121.000000  \n",
      "mean     33.295479  160.809917  \n",
      "std      51.758668   97.696922  \n",
      "min       0.000000    1.000000  \n",
      "25%       7.895800   72.000000  \n",
      "50%      14.454200  155.000000  \n",
      "75%      31.275000  256.000000  \n",
      "max     512.329200  328.000000  \n"
     ]
    }
   ],
   "source": [
    "print(df.describe())"
   ]
  },
  {
   "cell_type": "code",
   "execution_count": 103,
   "id": "69b1ee8a-1871-404b-b1a0-5fb4c1377c3a",
   "metadata": {},
   "outputs": [
    {
     "name": "stdout",
     "output_type": "stream",
     "text": [
      "<class 'pandas.core.frame.DataFrame'>\n",
      "RangeIndex: 1309 entries, 0 to 1308\n",
      "Data columns (total 14 columns):\n",
      " #   Column     Non-Null Count  Dtype  \n",
      "---  ------     --------------  -----  \n",
      " 0   pclass     1309 non-null   int64  \n",
      " 1   survived   1309 non-null   int64  \n",
      " 2   name       1309 non-null   object \n",
      " 3   sex        1309 non-null   object \n",
      " 4   age        1046 non-null   float64\n",
      " 5   sibsp      1309 non-null   int64  \n",
      " 6   parch      1309 non-null   int64  \n",
      " 7   ticket     1309 non-null   object \n",
      " 8   fare       1308 non-null   float64\n",
      " 9   cabin      295 non-null    object \n",
      " 10  embarked   1307 non-null   object \n",
      " 11  boat       486 non-null    object \n",
      " 12  body       121 non-null    float64\n",
      " 13  home.dest  745 non-null    object \n",
      "dtypes: float64(3), int64(4), object(7)\n",
      "memory usage: 143.3+ KB\n",
      "None\n"
     ]
    }
   ],
   "source": [
    "print(df.info())"
   ]
  },
  {
   "cell_type": "code",
   "execution_count": 115,
   "id": "45f4bef5-f79f-444b-9fee-0a7b584532e9",
   "metadata": {},
   "outputs": [
    {
     "name": "stdout",
     "output_type": "stream",
     "text": [
      "      pclass  survived                                     name     sex   age  \\\n",
      "763        3         1  Dean, Miss. Elizabeth Gladys \"Millvina\"  female  0.17   \n",
      "747        3         0  Danbom, Master. Gilbert Sigvard Emanuel    male  0.33   \n",
      "1240       3         1          Thomas, Master. Assad Alexander    male  0.42   \n",
      "427        2         1                Hamalainen, Master. Viljo    male  0.67   \n",
      "1111       3         0           Peacock, Master. Alfred Edward    male  0.75   \n",
      "...      ...       ...                                      ...     ...   ...   \n",
      "1293       3         0        Williams, Mr. Howard Hugh \"Harry\"    male   NaN   \n",
      "1297       3         0                   Wiseman, Mr. Phillippe    male   NaN   \n",
      "1302       3         0                        Yousif, Mr. Wazli    male   NaN   \n",
      "1303       3         0                    Yousseff, Mr. Gerious    male   NaN   \n",
      "1305       3         0                    Zabour, Miss. Thamine  female   NaN   \n",
      "\n",
      "      sibsp  parch              ticket     fare cabin embarked boat  body  \\\n",
      "763       1      2           C.A. 2315  20.5750   NaN        S   10   NaN   \n",
      "747       0      2              347080  14.4000   NaN        S  NaN   NaN   \n",
      "1240      0      1                2625   8.5167   NaN        C   16   NaN   \n",
      "427       1      1              250649  14.5000   NaN        S    4   NaN   \n",
      "1111      1      1  SOTON/O.Q. 3101315  13.7750   NaN        S  NaN   NaN   \n",
      "...     ...    ...                 ...      ...   ...      ...  ...   ...   \n",
      "1293      0      0            A/5 2466   8.0500   NaN        S  NaN   NaN   \n",
      "1297      0      0          A/4. 34244   7.2500   NaN        S  NaN   NaN   \n",
      "1302      0      0                2647   7.2250   NaN        C  NaN   NaN   \n",
      "1303      0      0                2627  14.4583   NaN        C  NaN   NaN   \n",
      "1305      1      0                2665  14.4542   NaN        C  NaN   NaN   \n",
      "\n",
      "                       home.dest  \n",
      "763   Devon, England Wichita, KS  \n",
      "747                  Stanton, IA  \n",
      "1240                         NaN  \n",
      "427                  Detroit, MI  \n",
      "1111                         NaN  \n",
      "...                          ...  \n",
      "1293                         NaN  \n",
      "1297                         NaN  \n",
      "1302                         NaN  \n",
      "1303                         NaN  \n",
      "1305                         NaN  \n",
      "\n",
      "[1309 rows x 14 columns]\n"
     ]
    }
   ],
   "source": [
    "df_sorted = df.sort_values(by='age', ascending=True)\n",
    "print(df_sorted)"
   ]
  },
  {
   "cell_type": "code",
   "execution_count": 119,
   "id": "1f046239-f082-484d-bd96-99da81dfb3c5",
   "metadata": {},
   "outputs": [
    {
     "name": "stdout",
     "output_type": "stream",
     "text": [
      "      pclass  survived                                               name  \\\n",
      "1091       3         0                            Oreskovic, Miss. Marija   \n",
      "883        3         0                             Jensen, Mr. Hans Peder   \n",
      "633        3         0                         Andreasson, Mr. Paul Edvin   \n",
      "673        3         0                                Betros, Mr. Tannous   \n",
      "718        3         0                     Coelho, Mr. Domingos Fernandeo   \n",
      "...      ...       ...                                                ...   \n",
      "583        2         1  Watt, Mrs. James (Elizabeth \"Bessie\" Inglis Mi...   \n",
      "497        2         0                          Maybery, Mr. Frank Hubert   \n",
      "831        3         0                     Goodwin, Mr. Charles Frederick   \n",
      "260        1         1                          Shutes, Miss. Elizabeth W   \n",
      "406        2         0                              Faunthorpe, Mr. Harry   \n",
      "\n",
      "         sex   age  sibsp  parch              ticket      fare cabin embarked  \\\n",
      "1091  female  20.0      0      0              315096    8.6625   NaN        S   \n",
      "883     male  20.0      0      0              350050    7.8542   NaN        S   \n",
      "633     male  20.0      0      0              347466    7.8542   NaN        S   \n",
      "673     male  20.0      0      0                2648    4.0125   NaN        C   \n",
      "718     male  20.0      0      0  SOTON/O.Q. 3101307    7.0500   NaN        S   \n",
      "...      ...   ...    ...    ...                 ...       ...   ...      ...   \n",
      "583   female  40.0      0      0          C.A. 33595   15.7500   NaN        S   \n",
      "497     male  40.0      0      0              239059   16.0000   NaN        S   \n",
      "831     male  40.0      1      6             CA 2144   46.9000   NaN        S   \n",
      "260   female  40.0      0      0            PC 17582  153.4625  C125        S   \n",
      "406     male  40.0      1      0                2926   26.0000   NaN        S   \n",
      "\n",
      "     boat   body                             home.dest  \n",
      "1091  NaN    NaN                                   NaN  \n",
      "883   NaN    NaN                                   NaN  \n",
      "633   NaN    NaN                    Sweden Chicago, IL  \n",
      "673   NaN    NaN                                 Syria  \n",
      "718   NaN    NaN                              Portugal  \n",
      "...   ...    ...                                   ...  \n",
      "583     9    NaN               Aberdeen / Portland, OR  \n",
      "497   NaN    NaN     Weston-Super-Mare / Moose Jaw, SK  \n",
      "831   NaN    NaN  Wiltshire, England Niagara Falls, NY  \n",
      "260     3    NaN           New York, NY / Greenwich CT  \n",
      "406   NaN  286.0            England / Philadelphia, PA  \n",
      "\n",
      "[594 rows x 14 columns]\n"
     ]
    }
   ],
   "source": [
    "df_filtered = df_sorted[(df_sorted['age'] >=20) & (df_sorted['age'] <=40)]\n",
    "print(df_filtered)"
   ]
  },
  {
   "cell_type": "code",
   "execution_count": 137,
   "id": "7937afac-b95f-42d7-8bbd-a0c85b508e7d",
   "metadata": {},
   "outputs": [
    {
     "name": "stdout",
     "output_type": "stream",
     "text": [
      "Total count of Age b/w 20 - 40 are: 594\n"
     ]
    }
   ],
   "source": [
    "count_rows = df_filtered.shape[0]\n",
    "print(\"Total count of Age b/w 20 - 40 are:\",count_rows)"
   ]
  },
  {
   "cell_type": "code",
   "execution_count": 139,
   "id": "3b8329c0-9816-4930-9cc1-ed2400845fa9",
   "metadata": {},
   "outputs": [
    {
     "name": "stdout",
     "output_type": "stream",
     "text": [
      "Over all passengers are: 1309\n"
     ]
    }
   ],
   "source": [
    "count_rows = df_sorted.shape[0]\n",
    "print(\"Over all passengers are:\",count_rows)"
   ]
  },
  {
   "cell_type": "code",
   "execution_count": 147,
   "id": "24f882b1-51e5-4fe2-9ba5-05e6e39431eb",
   "metadata": {},
   "outputs": [
    {
     "name": "stdout",
     "output_type": "stream",
     "text": [
      "Other than 20- 40 age passengers are:706\n"
     ]
    }
   ],
   "source": [
    "a=1300\n",
    "b=594\n",
    "c=a-b\n",
    "print(f\"Other than 20- 40 age passengers are:{c}\")"
   ]
  },
  {
   "cell_type": "code",
   "execution_count": 149,
   "id": "9dce8b02-a2e7-4d3d-9800-891aae964a6a",
   "metadata": {},
   "outputs": [
    {
     "name": "stdout",
     "output_type": "stream",
     "text": [
      "0       29.00\n",
      "1        0.92\n",
      "2        2.00\n",
      "3       30.00\n",
      "4       25.00\n",
      "        ...  \n",
      "1304    14.50\n",
      "1305      NaN\n",
      "1306    26.50\n",
      "1307    27.00\n",
      "1308    29.00\n",
      "Name: age, Length: 1309, dtype: float64\n"
     ]
    }
   ],
   "source": [
    "# 3.1 Dataframe operations\n",
    "print(df['age'])"
   ]
  },
  {
   "cell_type": "code",
   "execution_count": 151,
   "id": "8004d43d-434e-4569-b7d3-764bb66cfdac",
   "metadata": {},
   "outputs": [
    {
     "name": "stdout",
     "output_type": "stream",
     "text": [
      "pclass                                   1\n",
      "survived                                 1\n",
      "name         Allen, Miss. Elisabeth Walton\n",
      "sex                                 female\n",
      "age                                   29.0\n",
      "sibsp                                    0\n",
      "parch                                    0\n",
      "ticket                               24160\n",
      "fare                              211.3375\n",
      "cabin                                   B5\n",
      "embarked                                 S\n",
      "boat                                     2\n",
      "body                                   NaN\n",
      "home.dest                     St Louis, MO\n",
      "Name: 0, dtype: object\n"
     ]
    }
   ],
   "source": [
    "print(df.loc[0])"
   ]
  },
  {
   "cell_type": "code",
   "execution_count": 153,
   "id": "36c06cf8-972c-40f7-97f1-9070fcadf924",
   "metadata": {},
   "outputs": [
    {
     "name": "stdout",
     "output_type": "stream",
     "text": [
      "   pclass  survived                                  name     sex    age  \\\n",
      "1       1         1        Allison, Master. Hudson Trevor    male   0.92   \n",
      "2       1         0          Allison, Miss. Helen Loraine  female   2.00   \n",
      "3       1         0  Allison, Mr. Hudson Joshua Creighton    male  30.00   \n",
      "\n",
      "   sibsp  parch  ticket    fare    cabin embarked boat   body  \\\n",
      "1      1      2  113781  151.55  C22 C26        S   11    NaN   \n",
      "2      1      2  113781  151.55  C22 C26        S  NaN    NaN   \n",
      "3      1      2  113781  151.55  C22 C26        S  NaN  135.0   \n",
      "\n",
      "                         home.dest  \n",
      "1  Montreal, PQ / Chesterville, ON  \n",
      "2  Montreal, PQ / Chesterville, ON  \n",
      "3  Montreal, PQ / Chesterville, ON  \n"
     ]
    }
   ],
   "source": [
    "print(df.iloc[1:4])"
   ]
  },
  {
   "cell_type": "code",
   "execution_count": 165,
   "id": "6f038b46-324c-4d5e-a0c6-cea75020583c",
   "metadata": {},
   "outputs": [
    {
     "name": "stdout",
     "output_type": "stream",
     "text": [
      "1309\n"
     ]
    }
   ],
   "source": [
    "original_row_count = df.shape[0]\n",
    "print(original_row_count)"
   ]
  },
  {
   "cell_type": "code",
   "execution_count": 161,
   "id": "f20ed53c-7ec0-4344-8917-d9382b35605e",
   "metadata": {},
   "outputs": [
    {
     "name": "stdout",
     "output_type": "stream",
     "text": [
      "      pclass  survived   name    sex    age  sibsp  parch  ticket   fare  \\\n",
      "0      False     False  False  False  False  False  False   False  False   \n",
      "1      False     False  False  False  False  False  False   False  False   \n",
      "2      False     False  False  False  False  False  False   False  False   \n",
      "3      False     False  False  False  False  False  False   False  False   \n",
      "4      False     False  False  False  False  False  False   False  False   \n",
      "...      ...       ...    ...    ...    ...    ...    ...     ...    ...   \n",
      "1304   False     False  False  False  False  False  False   False  False   \n",
      "1305   False     False  False  False   True  False  False   False  False   \n",
      "1306   False     False  False  False  False  False  False   False  False   \n",
      "1307   False     False  False  False  False  False  False   False  False   \n",
      "1308   False     False  False  False  False  False  False   False  False   \n",
      "\n",
      "      cabin  embarked   boat   body  home.dest  \n",
      "0     False     False  False   True      False  \n",
      "1     False     False  False   True      False  \n",
      "2     False     False   True   True      False  \n",
      "3     False     False   True  False      False  \n",
      "4     False     False   True   True      False  \n",
      "...     ...       ...    ...    ...        ...  \n",
      "1304   True     False   True  False       True  \n",
      "1305   True     False   True   True       True  \n",
      "1306   True     False   True  False       True  \n",
      "1307   True     False   True   True       True  \n",
      "1308   True     False   True   True       True  \n",
      "\n",
      "[1309 rows x 14 columns]\n"
     ]
    }
   ],
   "source": [
    "# 4. Data manipulation and cleaning in pandas\n",
    "# Handling missing data:\n",
    "\n",
    "# Identify the missing values\n",
    "print(df.isnull())"
   ]
  },
  {
   "cell_type": "code",
   "execution_count": 159,
   "id": "b81cea36-abac-4a82-8897-87561747b9b4",
   "metadata": {},
   "outputs": [
    {
     "name": "stdout",
     "output_type": "stream",
     "text": [
      "Empty DataFrame\n",
      "Columns: [pclass, survived, name, sex, age, sibsp, parch, ticket, fare, cabin, embarked, boat, body, home.dest]\n",
      "Index: []\n"
     ]
    }
   ],
   "source": [
    "# Dropping missing values: using dropna() to remove rows with misiing values:\n",
    "df_cleaning = df.dropna()\n",
    "print(df_cleaning)"
   ]
  },
  {
   "cell_type": "code",
   "execution_count": 169,
   "id": "82c5cf45-bc7d-4ed8-bcf7-898cd5cf0fd8",
   "metadata": {},
   "outputs": [
    {
     "name": "stdout",
     "output_type": "stream",
     "text": [
      "Empty DataFrame\n",
      "Columns: [pclass, survived, name, sex, age, sibsp, parch, ticket, fare, cabin, embarked, boat, body, home.dest]\n",
      "Index: []\n"
     ]
    }
   ],
   "source": [
    "df_cleaned=df.dropna()\n",
    "print(df_cleaned)"
   ]
  },
  {
   "cell_type": "code",
   "execution_count": 175,
   "id": "704063e8-8408-49a6-9f46-982b5755ef57",
   "metadata": {},
   "outputs": [
    {
     "name": "stdout",
     "output_type": "stream",
     "text": [
      "0\n"
     ]
    }
   ],
   "source": [
    "cleaned_rows_count=df_cleaned.shape[0]\n",
    "print(cleaned_rows_count)"
   ]
  },
  {
   "cell_type": "code",
   "execution_count": 181,
   "id": "b617740f-6af1-4542-a066-54fe3a902727",
   "metadata": {},
   "outputs": [
    {
     "name": "stdout",
     "output_type": "stream",
     "text": [
      "Number of rows dropped: 1309\n"
     ]
    }
   ],
   "source": [
    "# To find how many rows dropped\n",
    "rows_dropped = original_row_count - cleaned_rows_count\n",
    "print(f\"Number of rows dropped: {rows_dropped}\")"
   ]
  },
  {
   "cell_type": "code",
   "execution_count": 183,
   "id": "0b168c8d-0d9e-470c-b2f8-6b4e0dac2303",
   "metadata": {},
   "outputs": [
    {
     "name": "stdout",
     "output_type": "stream",
     "text": [
      "      pclass  survived                                             name  \\\n",
      "0          1         1                    Allen, Miss. Elisabeth Walton   \n",
      "1          1         1                   Allison, Master. Hudson Trevor   \n",
      "2          1         0                     Allison, Miss. Helen Loraine   \n",
      "3          1         0             Allison, Mr. Hudson Joshua Creighton   \n",
      "4          1         0  Allison, Mrs. Hudson J C (Bessie Waldo Daniels)   \n",
      "...      ...       ...                                              ...   \n",
      "1304       3         0                             Zabour, Miss. Hileni   \n",
      "1305       3         0                            Zabour, Miss. Thamine   \n",
      "1306       3         0                        Zakarian, Mr. Mapriededer   \n",
      "1307       3         0                              Zakarian, Mr. Ortin   \n",
      "1308       3         0                               Zimmerman, Mr. Leo   \n",
      "\n",
      "         sex    age  sibsp  parch  ticket      fare    cabin embarked boat  \\\n",
      "0     female  29.00      0      0   24160  211.3375       B5        S    2   \n",
      "1       male   0.92      1      2  113781  151.5500  C22 C26        S   11   \n",
      "2     female   2.00      1      2  113781  151.5500  C22 C26        S  NaN   \n",
      "3       male  30.00      1      2  113781  151.5500  C22 C26        S  NaN   \n",
      "4     female  25.00      1      2  113781  151.5500  C22 C26        S  NaN   \n",
      "...      ...    ...    ...    ...     ...       ...      ...      ...  ...   \n",
      "1304  female  14.50      1      0    2665   14.4542      NaN        C  NaN   \n",
      "1305  female    NaN      1      0    2665   14.4542      NaN        C  NaN   \n",
      "1306    male  26.50      0      0    2656    7.2250      NaN        C  NaN   \n",
      "1307    male  27.00      0      0    2670    7.2250      NaN        C  NaN   \n",
      "1308    male  29.00      0      0  315082    7.8750      NaN        S  NaN   \n",
      "\n",
      "       body                        home.dest  \n",
      "0       NaN                     St Louis, MO  \n",
      "1       NaN  Montreal, PQ / Chesterville, ON  \n",
      "2       NaN  Montreal, PQ / Chesterville, ON  \n",
      "3     135.0  Montreal, PQ / Chesterville, ON  \n",
      "4       NaN  Montreal, PQ / Chesterville, ON  \n",
      "...     ...                              ...  \n",
      "1304  328.0                              NaN  \n",
      "1305    NaN                              NaN  \n",
      "1306  304.0                              NaN  \n",
      "1307    NaN                              NaN  \n",
      "1308    NaN                              NaN  \n",
      "\n",
      "[1309 rows x 14 columns]\n"
     ]
    }
   ],
   "source": [
    "print(df)"
   ]
  },
  {
   "cell_type": "code",
   "execution_count": 185,
   "id": "91112160-3461-4514-8bf6-de2147224140",
   "metadata": {},
   "outputs": [],
   "source": [
    "# Filling missing values fillna() o fill missing values with a specific value or method.\n",
    "df_filled = df.fillna(0)  # Replace NaN with 0"
   ]
  },
  {
   "cell_type": "code",
   "execution_count": 193,
   "id": "7f77c5bd-6c62-4702-bc89-49202eec3e55",
   "metadata": {},
   "outputs": [
    {
     "name": "stdout",
     "output_type": "stream",
     "text": [
      "      pclass  survived                                  name     sex   age  \\\n",
      "0          1         1         Allen, Miss. Elisabeth Walton  female  29.0   \n",
      "3          1         0  Allison, Mr. Hudson Joshua Creighton    male  30.0   \n",
      "5          1         1                   Anderson, Mr. Harry    male  48.0   \n",
      "6          1         1     Andrews, Miss. Kornelia Theodosia  female  63.0   \n",
      "7          1         0                Andrews, Mr. Thomas Jr    male  39.0   \n",
      "...      ...       ...                                   ...     ...   ...   \n",
      "1299       3         0                   Yasbeck, Mr. Antoni    male  27.0   \n",
      "1301       3         0                  Youseff, Mr. Gerious    male  45.5   \n",
      "1306       3         0             Zakarian, Mr. Mapriededer    male  26.5   \n",
      "1307       3         0                   Zakarian, Mr. Ortin    male  27.0   \n",
      "1308       3         0                    Zimmerman, Mr. Leo    male  29.0   \n",
      "\n",
      "      sibsp  parch  ticket      fare    cabin embarked boat   body  \\\n",
      "0         0      0   24160  211.3375       B5        S    2    NaN   \n",
      "3         1      2  113781  151.5500  C22 C26        S  NaN  135.0   \n",
      "5         0      0   19952   26.5500      E12        S    3    NaN   \n",
      "6         1      0   13502   77.9583       D7        S   10    NaN   \n",
      "7         0      0  112050    0.0000      A36        S  NaN    NaN   \n",
      "...     ...    ...     ...       ...      ...      ...  ...    ...   \n",
      "1299      1      0    2659   14.4542      NaN        C    C    NaN   \n",
      "1301      0      0    2628    7.2250      NaN        C  NaN  312.0   \n",
      "1306      0      0    2656    7.2250      NaN        C  NaN  304.0   \n",
      "1307      0      0    2670    7.2250      NaN        C  NaN    NaN   \n",
      "1308      0      0  315082    7.8750      NaN        S  NaN    NaN   \n",
      "\n",
      "                            home.dest  \n",
      "0                        St Louis, MO  \n",
      "3     Montreal, PQ / Chesterville, ON  \n",
      "5                        New York, NY  \n",
      "6                          Hudson, NY  \n",
      "7                         Belfast, NI  \n",
      "...                               ...  \n",
      "1299                              NaN  \n",
      "1301                              NaN  \n",
      "1306                              NaN  \n",
      "1307                              NaN  \n",
      "1308                              NaN  \n",
      "\n",
      "[603 rows x 14 columns]\n"
     ]
    }
   ],
   "source": [
    "# Condition-based filtering and selecting data: \n",
    "# Condition-Based Filtering: Use boolean conditions to filter rows.\n",
    "\n",
    "filtered_df = df[df['age'] > 25]\n",
    "print(filtered_df)"
   ]
  },
  {
   "cell_type": "code",
   "execution_count": 197,
   "id": "9239554c-4ffd-481d-9a18-fbb4cbde7647",
   "metadata": {},
   "outputs": [
    {
     "name": "stdout",
     "output_type": "stream",
     "text": [
      "603\n"
     ]
    }
   ],
   "source": [
    "count_filtered_df = filtered_df.shape[0]\n",
    "print(count_filtered_df)"
   ]
  },
  {
   "cell_type": "code",
   "execution_count": 201,
   "id": "98d78826-a3bc-469b-af4c-f5bb5bb188b0",
   "metadata": {},
   "outputs": [
    {
     "name": "stdout",
     "output_type": "stream",
     "text": [
      "home.dest\n",
      "?Havana, Cuba                          28.500000\n",
      "Aberdeen / Portland, OR                26.000000\n",
      "Albany, NY                             31.000000\n",
      "Altdorf, Switzerland                   21.500000\n",
      "Amenia, ND                             46.500000\n",
      "                                         ...    \n",
      "Worcester, England                     19.000000\n",
      "Worcester, MA                          37.000000\n",
      "Yoevil, England / Cottage Grove, OR    26.000000\n",
      "Youngstown, OH                         40.750000\n",
      "Zurich, Switzerland                    43.333333\n",
      "Name: age, Length: 369, dtype: float64\n"
     ]
    }
   ],
   "source": [
    "# Grouping by Aggregating Data:\n",
    "# Group by: Useful for performing aggregation operations on subsets of data.\n",
    "\n",
    "grouped_df = df.groupby ('home.dest')['age'].mean()\n",
    "print(grouped_df)"
   ]
  },
  {
   "cell_type": "code",
   "execution_count": 205,
   "id": "567ac63e-00cd-4e9d-a682-931da87a2028",
   "metadata": {},
   "outputs": [
    {
     "name": "stdout",
     "output_type": "stream",
     "text": [
      "      pclass  survived                                             name  \\\n",
      "0          1         1                    Allen, Miss. Elisabeth Walton   \n",
      "1          1         1                   Allison, Master. Hudson Trevor   \n",
      "2          1         0                     Allison, Miss. Helen Loraine   \n",
      "3          1         0             Allison, Mr. Hudson Joshua Creighton   \n",
      "4          1         0  Allison, Mrs. Hudson J C (Bessie Waldo Daniels)   \n",
      "...      ...       ...                                              ...   \n",
      "1304       3         0                             Zabour, Miss. Hileni   \n",
      "1305       3         0                            Zabour, Miss. Thamine   \n",
      "1306       3         0                        Zakarian, Mr. Mapriededer   \n",
      "1307       3         0                              Zakarian, Mr. Ortin   \n",
      "1308       3         0                               Zimmerman, Mr. Leo   \n",
      "\n",
      "         sex    age  sibsp  parch  ticket      fare    cabin embarked boat  \\\n",
      "0     female  29.00      0      0   24160  211.3375       B5        S    2   \n",
      "1       male   0.92      1      2  113781  151.5500  C22 C26        S   11   \n",
      "2     female   2.00      1      2  113781  151.5500  C22 C26        S  NaN   \n",
      "3       male  30.00      1      2  113781  151.5500  C22 C26        S  NaN   \n",
      "4     female  25.00      1      2  113781  151.5500  C22 C26        S  NaN   \n",
      "...      ...    ...    ...    ...     ...       ...      ...      ...  ...   \n",
      "1304  female  14.50      1      0    2665   14.4542      NaN        C  NaN   \n",
      "1305  female    NaN      1      0    2665   14.4542      NaN        C  NaN   \n",
      "1306    male  26.50      0      0    2656    7.2250      NaN        C  NaN   \n",
      "1307    male  27.00      0      0    2670    7.2250      NaN        C  NaN   \n",
      "1308    male  29.00      0      0  315082    7.8750      NaN        S  NaN   \n",
      "\n",
      "       body                        home.dest  agesquared  \n",
      "0       NaN                     St Louis, MO    841.0000  \n",
      "1       NaN  Montreal, PQ / Chesterville, ON      0.8464  \n",
      "2       NaN  Montreal, PQ / Chesterville, ON      4.0000  \n",
      "3     135.0  Montreal, PQ / Chesterville, ON    900.0000  \n",
      "4       NaN  Montreal, PQ / Chesterville, ON    625.0000  \n",
      "...     ...                              ...         ...  \n",
      "1304  328.0                              NaN    210.2500  \n",
      "1305    NaN                              NaN         NaN  \n",
      "1306  304.0                              NaN    702.2500  \n",
      "1307    NaN                              NaN    729.0000  \n",
      "1308    NaN                              NaN    841.0000  \n",
      "\n",
      "[1309 rows x 15 columns]\n"
     ]
    }
   ],
   "source": [
    "# 5. Data Transformation with pandas\n",
    "# Creating New Columns: You can create new columns based on existing ones.\n",
    "\n",
    "df['agesquared'] =df['age']**2\n",
    "print(df)"
   ]
  },
  {
   "cell_type": "code",
   "execution_count": 209,
   "id": "766ad0f9-a9a4-4a87-bc76-0bd20d753264",
   "metadata": {},
   "outputs": [
    {
     "name": "stdout",
     "output_type": "stream",
     "text": [
      "      pclass  survived                                             name  \\\n",
      "0          1         1                    Allen, Miss. Elisabeth Walton   \n",
      "1          1         1                   Allison, Master. Hudson Trevor   \n",
      "2          1         0                     Allison, Miss. Helen Loraine   \n",
      "3          1         0             Allison, Mr. Hudson Joshua Creighton   \n",
      "4          1         0  Allison, Mrs. Hudson J C (Bessie Waldo Daniels)   \n",
      "...      ...       ...                                              ...   \n",
      "1304       3         0                             Zabour, Miss. Hileni   \n",
      "1305       3         0                            Zabour, Miss. Thamine   \n",
      "1306       3         0                        Zakarian, Mr. Mapriededer   \n",
      "1307       3         0                              Zakarian, Mr. Ortin   \n",
      "1308       3         0                               Zimmerman, Mr. Leo   \n",
      "\n",
      "         sex    age  sibsp  parch  ticket      fare    cabin embarked boat  \\\n",
      "0     female  31.00      0      0   24160  211.3375       B5        S    2   \n",
      "1       male   2.92      1      2  113781  151.5500  C22 C26        S   11   \n",
      "2     female   4.00      1      2  113781  151.5500  C22 C26        S  NaN   \n",
      "3       male  32.00      1      2  113781  151.5500  C22 C26        S  NaN   \n",
      "4     female  27.00      1      2  113781  151.5500  C22 C26        S  NaN   \n",
      "...      ...    ...    ...    ...     ...       ...      ...      ...  ...   \n",
      "1304  female  16.50      1      0    2665   14.4542      NaN        C  NaN   \n",
      "1305  female    NaN      1      0    2665   14.4542      NaN        C  NaN   \n",
      "1306    male  28.50      0      0    2656    7.2250      NaN        C  NaN   \n",
      "1307    male  29.00      0      0    2670    7.2250      NaN        C  NaN   \n",
      "1308    male  31.00      0      0  315082    7.8750      NaN        S  NaN   \n",
      "\n",
      "       body                        home.dest  agesquared  \n",
      "0       NaN                     St Louis, MO    841.0000  \n",
      "1       NaN  Montreal, PQ / Chesterville, ON      0.8464  \n",
      "2       NaN  Montreal, PQ / Chesterville, ON      4.0000  \n",
      "3     135.0  Montreal, PQ / Chesterville, ON    900.0000  \n",
      "4       NaN  Montreal, PQ / Chesterville, ON    625.0000  \n",
      "...     ...                              ...         ...  \n",
      "1304  328.0                              NaN    210.2500  \n",
      "1305    NaN                              NaN         NaN  \n",
      "1306  304.0                              NaN    702.2500  \n",
      "1307    NaN                              NaN    729.0000  \n",
      "1308    NaN                              NaN    841.0000  \n",
      "\n",
      "[1309 rows x 15 columns]\n"
     ]
    }
   ],
   "source": [
    "# Column Operations: Perform operations on entire columns.\n",
    "df['age'] = df['age']+1\n",
    "print(df)"
   ]
  },
  {
   "cell_type": "code",
   "execution_count": 211,
   "id": "72d7b0e6-03d9-4b48-b92a-096dc89c6600",
   "metadata": {},
   "outputs": [],
   "source": [
    "# Merging and Joining DataFrames:\n",
    "# Use merge() to join two DataFrames based on a common column.\n",
    "\n",
    "df1 = pd.DataFrame({'ID': [1, 2, 3], 'Value': ['A', 'B', 'C']})\n",
    "df2 = pd.DataFrame({'ID': [1, 2, 4], 'Score': [90, 80, 70]})\n",
    "merged_df = pd.merge(df1, df2, on='ID', how='inner')\n"
   ]
  },
  {
   "cell_type": "code",
   "execution_count": 213,
   "id": "e0aa6175-a430-4b2f-a158-e05472a88da1",
   "metadata": {},
   "outputs": [
    {
     "name": "stdout",
     "output_type": "stream",
     "text": [
      "   ID Value  Score\n",
      "0   1     A     90\n",
      "1   2     B     80\n"
     ]
    }
   ],
   "source": [
    "print(merged_df)"
   ]
  },
  {
   "cell_type": "code",
   "execution_count": null,
   "id": "f05346ad-e4dc-4d97-93b3-bf4056e5e034",
   "metadata": {},
   "outputs": [],
   "source": []
  },
  {
   "cell_type": "code",
   "execution_count": null,
   "id": "b3ed3a51-9327-4ed3-9e36-0a9483baa30e",
   "metadata": {},
   "outputs": [],
   "source": []
  },
  {
   "cell_type": "code",
   "execution_count": null,
   "id": "a339e3a4-fc97-4a76-9e3e-a09645624b7e",
   "metadata": {},
   "outputs": [],
   "source": []
  }
 ],
 "metadata": {
  "kernelspec": {
   "display_name": "Python [conda env:base] *",
   "language": "python",
   "name": "conda-base-py"
  },
  "language_info": {
   "codemirror_mode": {
    "name": "ipython",
    "version": 3
   },
   "file_extension": ".py",
   "mimetype": "text/x-python",
   "name": "python",
   "nbconvert_exporter": "python",
   "pygments_lexer": "ipython3",
   "version": "3.12.7"
  }
 },
 "nbformat": 4,
 "nbformat_minor": 5
}
