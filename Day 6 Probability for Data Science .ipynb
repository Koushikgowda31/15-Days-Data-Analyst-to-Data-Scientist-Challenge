{
 "cells": [
  {
   "cell_type": "code",
   "execution_count": 119,
   "id": "081e1a07-510c-46ed-a57d-daae4ff81094",
   "metadata": {},
   "outputs": [],
   "source": [
    "# Probabilities of drawing 2 aces from a standard 52 cards desk without replacement\n",
    "\n",
    "# Total number of cards in a desk\n",
    "total_cards = 52\n",
    "\n",
    "# Total number of Aces in the desk\n",
    "aces = 4"
   ]
  },
  {
   "cell_type": "code",
   "execution_count": 16,
   "id": "f2bfccbc-1d79-4ae0-bbac-def94af51abf",
   "metadata": {},
   "outputs": [],
   "source": [
    "# Probability of drawing an ace first\n",
    "prob_first_ace = aces / total_cards"
   ]
  },
  {
   "cell_type": "code",
   "execution_count": 28,
   "id": "265cf1ff-a9b5-4508-9e4c-6af8bb38ec8c",
   "metadata": {},
   "outputs": [],
   "source": [
    "# After drawing one Ace i have 3 aces left and 51 cards\n",
    "prob_second_ace_given_first = (aces - 1) / (total_cards - 1)"
   ]
  },
  {
   "cell_type": "code",
   "execution_count": 32,
   "id": "82ad0b8a-7044-4101-82b6-c5318c81eb7d",
   "metadata": {},
   "outputs": [],
   "source": [
    "# Total probability of drawing 2 Aces in a row without replacement\n",
    "total_probability = prob_first_ace * prob_second_ace_given_first"
   ]
  },
  {
   "cell_type": "code",
   "execution_count": 40,
   "id": "51eb87c6-6999-4666-8c44-27e2baa03d5e",
   "metadata": {},
   "outputs": [
    {
     "name": "stdout",
     "output_type": "stream",
     "text": [
      "Probability of first Ace: 0.0769\n",
      "Probability of second Ace given first: 0.0588\n",
      "Probability of 2 Aces: 0.0045 (0.45%)\n"
     ]
    }
   ],
   "source": [
    "# Result\n",
    "\n",
    "print(f\"Probability of first Ace: {prob_first_ace:.4f}\")\n",
    "print(f\"Probability of second Ace given first: {prob_second_ace_given_first:.4f}\")\n",
    "print(f\"Probability of 2 Aces: {total_probability:.4f} ({total_probability * 100:.2f}%)\")"
   ]
  },
  {
   "cell_type": "code",
   "execution_count": 66,
   "id": "63a487e0-4680-4bba-8c69-7e117924f452",
   "metadata": {},
   "outputs": [],
   "source": [
    "# Monte Carlo Simulation – Drawing 2 Aces\n",
    "\n",
    "import random\n",
    "\n",
    "# Function to simulate drawing 2 cards and checking if both are Aces\n",
    "def simulate_draw():\n",
    "    # Create a deck: 4 Aces + 48 other cards\n",
    "    deck = ['Ace'] * 4 + ['Other'] * 48\n",
    "    random.shuffle(deck)\n",
    "    \n",
    "    # Draw the first two cards\n",
    "    draw = deck[:2]\n",
    "    \n",
    "    # Check if both are Aces\n",
    "    return draw[0] == 'Ace' and draw[1] == 'Ace'\n",
    "\n",
    "# Number of simulations\n",
    "trials = 100_000\n",
    "successes = 0\n",
    "\n",
    "# Run simulations\n",
    "for _ in range(trials):\n",
    "    if simulate_draw():\n",
    "        successes += 1\n",
    "\n",
    "# Estimate probability\n",
    "estimated_probability = successes / trials"
   ]
  },
  {
   "cell_type": "code",
   "execution_count": 68,
   "id": "8779e282-61de-4021-9e1f-d86b5f8d9906",
   "metadata": {},
   "outputs": [
    {
     "name": "stdout",
     "output_type": "stream",
     "text": [
      "Simulated probability of drawing 2 Aces in a row: 0.0046\n",
      "Out of 100000 simulations, succeeded 460 times\n"
     ]
    }
   ],
   "source": [
    "# Results\n",
    "print(f\"Simulated probability of drawing 2 Aces in a row: {estimated_probability:.4f}\")\n",
    "print(f\"Out of {trials} simulations, succeeded {successes} times\")"
   ]
  },
  {
   "cell_type": "code",
   "execution_count": null,
   "id": "02b28a81-040b-4a0f-830c-1e9cd5174c2e",
   "metadata": {},
   "outputs": [],
   "source": []
  },
  {
   "cell_type": "code",
   "execution_count": 78,
   "id": "5e781638-462e-4810-bd10-9d02d1d03d49",
   "metadata": {},
   "outputs": [
    {
     "name": "stdout",
     "output_type": "stream",
     "text": [
      "Estimated probability of Three of a Kind: 0.0215\n",
      "Successes: 2147 / 100000\n"
     ]
    }
   ],
   "source": [
    "# \"Three of a Kind\"\n",
    "\n",
    "import random\n",
    "from collections import Counter\n",
    "\n",
    "# Define ranks and suits\n",
    "ranks = ['2', '3', '4', '5', '6', '7', '8', '9', '10', 'J', 'Q', 'K', 'A']\n",
    "suits = ['♠', '♥', '♦', '♣']\n",
    "\n",
    "# Build a full deck\n",
    "deck = [rank + suit for rank in ranks for suit in suits]\n",
    "\n",
    "def is_three_of_a_kind(hand):\n",
    "    # Count occurrences of each rank\n",
    "    rank_counts = Counter(card[:-1] for card in hand)\n",
    "    return 3 in rank_counts.values() and list(rank_counts.values()).count(2) == 0\n",
    "\n",
    "# Monte Carlo simulation\n",
    "trials = 100_000\n",
    "successes = 0\n",
    "\n",
    "for _ in range(trials):\n",
    "    hand = random.sample(deck, 5)\n",
    "    if is_three_of_a_kind(hand):\n",
    "        successes += 1\n",
    "\n",
    "estimated_prob = successes / trials\n",
    "\n",
    "print(f\"Estimated probability of Three of a Kind: {estimated_prob:.4f}\")\n",
    "print(f\"Successes: {successes} / {trials}\")\n"
   ]
  },
  {
   "cell_type": "code",
   "execution_count": 80,
   "id": "d6151b77-5be6-4613-8c74-b0263ef4fb58",
   "metadata": {},
   "outputs": [
    {
     "name": "stdout",
     "output_type": "stream",
     "text": [
      "Estimated probability of is_pair: 0.4234 (42338 / 100000)\n",
      "Estimated probability of is_two_pair: 0.0471 (4711 / 100000)\n",
      "Estimated probability of is_three_of_a_kind: 0.0215 (2150 / 100000)\n",
      "Estimated probability of is_straight: 0.0042 (421 / 100000)\n",
      "Estimated probability of is_flush: 0.0019 (188 / 100000)\n",
      "Estimated probability of is_full_house: 0.0015 (152 / 100000)\n",
      "Estimated probability of is_four_of_a_kind: 0.0003 (32 / 100000)\n"
     ]
    }
   ],
   "source": [
    "# Reusable Monte Carlo Poker Simulation framework\n",
    "\n",
    "import random\n",
    "from collections import Counter\n",
    "\n",
    "# Define ranks and suits\n",
    "ranks = ['2', '3', '4', '5', '6', '7', '8', '9', '10', 'J', 'Q', 'K', 'A']\n",
    "suits = ['♠', '♥', '♦', '♣']\n",
    "deck = [rank + suit for rank in ranks for suit in suits]\n",
    "\n",
    "# Utility to get just the ranks and suits\n",
    "def get_ranks(hand):\n",
    "    return [card[:-1] for card in hand]\n",
    "\n",
    "def get_suits(hand):\n",
    "    return [card[-1] for card in hand]\n",
    "\n",
    "# Hand check functions\n",
    "def is_pair(hand):\n",
    "    counts = Counter(get_ranks(hand)).values()\n",
    "    return 2 in counts and list(counts).count(2) == 1\n",
    "\n",
    "def is_two_pair(hand):\n",
    "    counts = Counter(get_ranks(hand)).values()\n",
    "    return list(counts).count(2) == 2\n",
    "\n",
    "def is_three_of_a_kind(hand):\n",
    "    counts = Counter(get_ranks(hand)).values()\n",
    "    return 3 in counts and not is_full_house(hand)\n",
    "\n",
    "def is_straight(hand):\n",
    "    ranks_map = {r: i for i, r in enumerate(ranks)}\n",
    "    rank_indices = sorted([ranks_map[r] for r in get_ranks(hand)])\n",
    "    # Handle Ace-low straight (A, 2, 3, 4, 5)\n",
    "    if rank_indices == [0, 1, 2, 3, 12]:\n",
    "        return True\n",
    "    return all(rank_indices[i] + 1 == rank_indices[i+1] for i in range(4))\n",
    "\n",
    "def is_flush(hand):\n",
    "    return len(set(get_suits(hand))) == 1\n",
    "\n",
    "def is_full_house(hand):\n",
    "    counts = Counter(get_ranks(hand)).values()\n",
    "    return 3 in counts and 2 in counts\n",
    "\n",
    "def is_four_of_a_kind(hand):\n",
    "    counts = Counter(get_ranks(hand)).values()\n",
    "    return 4 in counts\n",
    "\n",
    "# Monte Carlo Simulator\n",
    "def simulate(hand_check_function, trials=100_000):\n",
    "    success = 0\n",
    "    for _ in range(trials):\n",
    "        hand = random.sample(deck, 5)\n",
    "        if hand_check_function(hand):\n",
    "            success += 1\n",
    "    probability = success / trials\n",
    "    print(f\"Estimated probability of {hand_check_function.__name__}: {probability:.4f} ({success} / {trials})\")\n",
    "\n",
    "# Example: Simulate different hand types\n",
    "simulate(is_pair)\n",
    "simulate(is_two_pair)\n",
    "simulate(is_three_of_a_kind)\n",
    "simulate(is_straight)\n",
    "simulate(is_flush)\n",
    "simulate(is_full_house)\n",
    "simulate(is_four_of_a_kind)\n"
   ]
  },
  {
   "cell_type": "code",
   "execution_count": 91,
   "id": "5a52e810-5e33-4454-825d-f8bfc9259910",
   "metadata": {},
   "outputs": [
    {
     "name": "stdout",
     "output_type": "stream",
     "text": [
      "Pair            : 42.3240% (42324/100000)\n",
      "Two Pair        : 4.7850% (4785/100000)\n",
      "Three of a Kind : 2.0990% (2099/100000)\n",
      "Straight        : 0.3550% (355/100000)\n",
      "Flush           : 0.1960% (196/100000)\n",
      "Full House      : 0.1370% (137/100000)\n",
      "Four of a Kind  : 0.0230% (23/100000)\n",
      "Straight Flush  : 0.0000% (0/100000)\n",
      "Royal Flush     : 0.0000% (0/100000)\n"
     ]
    }
   ],
   "source": [
    "# Create CSV file with the last results\n",
    "\n",
    "import csv\n",
    "import random\n",
    "from collections import Counter\n",
    "\n",
    "# Deck setup\n",
    "ranks = ['2', '3', '4', '5', '6', '7', '8', '9', '10', 'J', 'Q', 'K', 'A']\n",
    "suits = ['♠', '♥', '♦', '♣']\n",
    "deck = [rank + suit for rank in ranks for suit in suits]\n",
    "\n",
    "def get_ranks(hand): return [card[:-1] for card in hand]\n",
    "def get_suits(hand): return [card[-1] for card in hand]\n",
    "\n",
    "# Hand checkers\n",
    "def is_pair(h): return list(Counter(get_ranks(h)).values()).count(2) == 1\n",
    "def is_two_pair(h): return list(Counter(get_ranks(h)).values()).count(2) == 2\n",
    "def is_three_of_a_kind(h): return 3 in Counter(get_ranks(h)).values() and not is_full_house(h)\n",
    "def is_straight(h):\n",
    "    ranks_map = {r: i for i, r in enumerate(ranks)}\n",
    "    vals = sorted([ranks_map[r] for r in get_ranks(h)])\n",
    "    return vals == list(range(vals[0], vals[0] + 5)) or vals == [0, 1, 2, 3, 12]\n",
    "def is_flush(h): return len(set(get_suits(h))) == 1\n",
    "def is_full_house(h): c = Counter(get_ranks(h)).values(); return 3 in c and 2 in c\n",
    "def is_four_of_a_kind(h): return 4 in Counter(get_ranks(h)).values()\n",
    "def is_straight_flush(h): return is_straight(h) and is_flush(h)\n",
    "def is_royal_flush(h): return is_flush(h) and sorted(get_ranks(h)) == ['10', 'A', 'J', 'K', 'Q']\n",
    "\n",
    "# Simulator and CSV writer\n",
    "def simulate_and_save(results_file=\"poker_hand_probs.csv\", trials=100_000):\n",
    "    hand_types = {\n",
    "        \"Pair\": is_pair,\n",
    "        \"Two Pair\": is_two_pair,\n",
    "        \"Three of a Kind\": is_three_of_a_kind,\n",
    "        \"Straight\": is_straight,\n",
    "        \"Flush\": is_flush,\n",
    "        \"Full House\": is_full_house,\n",
    "        \"Four of a Kind\": is_four_of_a_kind,\n",
    "        \"Straight Flush\": is_straight_flush,\n",
    "        \"Royal Flush\": is_royal_flush\n",
    "    }\n",
    "\n",
    "    with open(results_file, mode='w', newline='') as f:\n",
    "        writer = csv.writer(f)\n",
    "        writer.writerow([\"Hand Type\", \"Probability (%)\", \"Successes\", \"Trials\"])\n",
    "\n",
    "        for name, check_fn in hand_types.items():\n",
    "            successes = sum(check_fn(random.sample(deck, 5)) for _ in range(trials))\n",
    "            probability = (successes / trials) * 100\n",
    "            writer.writerow([name, round(probability, 4), successes, trials])\n",
    "            print(f\"{name:16s}: {probability:.4f}% ({successes}/{trials})\")\n",
    "\n",
    "simulate_and_save()\n"
   ]
  },
  {
   "cell_type": "code",
   "execution_count": 95,
   "id": "19298f19-ab6f-47fd-95fe-84ef3d77a8e8",
   "metadata": {},
   "outputs": [
    {
     "data": {
      "image/png": "[encoded data removed]",
      "text/plain": [
       "<Figure size 1000x600 with 1 Axes>"
      ]
     },
     "metadata": {},
     "output_type": "display_data"
    }
   ],
   "source": [
    "# Graph with Matplotlib / Seaborn\n",
    "\n",
    "import pandas as pd\n",
    "import matplotlib.pyplot as plt\n",
    "import seaborn as sns\n",
    "\n",
    "# Load data\n",
    "df = pd.read_csv(\"poker_hand_probs.csv\")\n",
    "\n",
    "# Sort for better view\n",
    "df = df.sort_values(\"Probability (%)\", ascending=False)\n",
    "\n",
    "# Plot\n",
    "plt.figure(figsize=(10, 6))\n",
    "sns.barplot(x=\"Probability (%)\", y=\"Hand Type\", data=df, hue = \"Hand Type\", palette=\"viridis\", legend=False)\n",
    "plt.title(\"Estimated Poker Hand Probabilities (Monte Carlo)\")\n",
    "plt.xlabel(\"Probability (%)\")\n",
    "plt.ylabel(\"Poker Hand\")\n",
    "plt.grid(True, axis='x', linestyle='--', alpha=0.7)\n",
    "plt.tight_layout()\n",
    "plt.show()\n"
   ]
  },
  {
   "cell_type": "code",
   "execution_count": 101,
   "id": "e9ee20dd-1e0a-4c88-87c6-3d1930e5a8ef",
   "metadata": {},
   "outputs": [
    {
     "name": "stderr",
     "output_type": "stream",
     "text": [
      "2025-04-13 13:07:56.055 \n",
      "  \u001b[33m\u001b[1mWarning:\u001b[0m to view this Streamlit app on a browser, run it with the following\n",
      "  command:\n",
      "\n",
      "    streamlit run C:\\Users\\kumar\\anaconda3\\Lib\\site-packages\\ipykernel_launcher.py [ARGUMENTS]\n"
     ]
    },
    {
     "data": {
      "text/plain": [
       "False"
      ]
     },
     "execution_count": 101,
     "metadata": {},
     "output_type": "execute_result"
    },
    {
     "data": {
      "image/png": "[encoded data removed]",
      "text/plain": [
       "<Figure size 640x480 with 1 Axes>"
      ]
     },
     "metadata": {},
     "output_type": "display_data"
    }
   ],
   "source": [
    "import streamlit as st\n",
    "\n",
    "import matplotlib.pyplot as plt\n",
    "from io import BytesIO\n",
    "import streamlit as st\n",
    "\n",
    "# 🎨 Create a simple plot (you can replace this with your own Seaborn or Matplotlib plot)\n",
    "fig, ax = plt.subplots()\n",
    "ax.bar([\"Flush\", \"Straight\", \"Full House\"], [0.19, 0.39, 0.14])\n",
    "ax.set_title(\"Poker Hand Probabilities\")\n",
    "\n",
    "# 💾 Save to a BytesIO buffer\n",
    "buffer = BytesIO()\n",
    "fig.savefig(buffer, format=\"png\")  # You can also use \"pdf\"\n",
    "buffer.seek(0)\n",
    "\n",
    "# 📥 Add a Streamlit download button\n",
    "st.download_button(\n",
    "    label=\"Download plot as PNG\",\n",
    "    data=buffer,\n",
    "    file_name=\"poker_hand_probabilities.png\",\n",
    "    mime=\"image/png\"\n",
    ")\n",
    "\n"
   ]
  },
  {
   "cell_type": "code",
   "execution_count": null,
   "id": "b69f8255-03d7-43ce-918c-96c9ad67d720",
   "metadata": {},
   "outputs": [],
   "source": []
  }
 ],
 "metadata": {
  "kernelspec": {
   "display_name": "Python [conda env:base] *",
   "language": "python",
   "name": "conda-base-py"
  },
  "language_info": {
   "codemirror_mode": {
    "name": "ipython",
    "version": 3
   },
   "file_extension": ".py",
   "mimetype": "text/x-python",
   "name": "python",
   "nbconvert_exporter": "python",
   "pygments_lexer": "ipython3",
   "version": "3.12.7"
  }
 },
 "nbformat": 4,
 "nbformat_minor": 5
}
